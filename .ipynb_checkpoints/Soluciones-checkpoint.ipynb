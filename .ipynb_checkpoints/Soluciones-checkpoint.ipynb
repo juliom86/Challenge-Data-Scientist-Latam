{
 "cells": [
  {
   "cell_type": "markdown",
   "id": "0c790b4f",
   "metadata": {
    "heading_collapsed": true
   },
   "source": [
    "# Librerias a utilizas"
   ]
  },
  {
   "cell_type": "code",
   "execution_count": 1,
   "id": "aa185dbb",
   "metadata": {
    "hidden": true
   },
   "outputs": [],
   "source": [
    "# Librerias para manipulacion de datos y visualizacion\n",
    "\n",
    "import pandas as pd\n",
    "import numpy as np\n",
    "import matplotlib.pyplot as plt\n",
    "import seaborn as sns\n",
    "import datetime as dt\n",
    "\n",
    "# determinamos los warnings\n",
    "import warnings\n",
    "warnings.filterwarnings('ignore')\n",
    "\n",
    "# librerias de MAchine Learning\n",
    "\n",
    "from sklearn import set_config; set_config(display='diagram')\n",
    "from sklearn.model_selection import train_test_split\n",
    "from sklearn.preprocessing import MinMaxScaler, StandardScaler\n",
    "from sklearn.pipeline import Pipeline, make_pipeline\n",
    "from sklearn.compose import ColumnTransformer, make_column_transformer, make_column_selector\n",
    "from sklearn.impute import SimpleImputer, KNNImputer\n",
    "from sklearn.preprocessing import RobustScaler, OneHotEncoder, OrdinalEncoder\n",
    "from sklearn.metrics import make_scorer\n",
    "from sklearn.model_selection import cross_val_score\n",
    "from sklearn.linear_model import LogisticRegression\n",
    "from sklearn.neighbors import KNeighborsClassifier\n",
    "from sklearn.svm import SVC\n",
    "from sklearn.linear_model import SGDClassifier\n",
    "from sklearn.tree import DecisionTreeClassifier\n",
    "from sklearn.ensemble import RandomForestClassifier\n",
    "from sklearn.ensemble import AdaBoostClassifier\n",
    "from sklearn.ensemble import VotingClassifier\n",
    "from sklearn.ensemble import StackingClassifier\n",
    "from sklearn.metrics import classification_report\n",
    "from sklearn.metrics import confusion_matrix\n",
    "from sklearn.metrics import plot_confusion_matrix\n",
    "from sklearn.metrics import roc_auc_score"
   ]
  },
  {
   "cell_type": "markdown",
   "id": "67975d0f",
   "metadata": {
    "heading_collapsed": true
   },
   "source": [
    "# Descripcion del data set"
   ]
  },
  {
   "cell_type": "markdown",
   "id": "cfbce945",
   "metadata": {
    "hidden": true
   },
   "source": [
    "El problema consiste en predecir la probabilidad de atraso de los vuelos que aterrizan o despegan del aeropuerto de Santiago de\n",
    "Chile (SCL). Para eso les entregamos un dataset usando datos públicos y reales donde cada fila corresponde a un vuelo que\n",
    "aterrizó o despegó de SCL. Para cada vuelo se cuenta con la siguiente información:\n",
    "\n",
    "- **Fecha-I** : Fecha y hora programada del vuelo.\n",
    "- **Vlo-I** : Número de vuelo programado.\n",
    "- **Ori-I** : Código de ciudad de origen programado.\n",
    "- **Des-I** : Código de ciudad de destino programado.\n",
    "- **Emp-I** : Código aerolínea de vuelo programado.\n",
    "- **Fecha-O** : Fecha y hora de operación del vuelo.\n",
    "- **Vlo-O** : Número de vuelo de operación del vuelo.\n",
    "- **Ori-O** : Código de ciudad de origen de operación\n",
    "- **Des-O** : Código de ciudad de destino de operación.\n",
    "- **Emp-O** : Código aerolínea de vuelo operado.\n",
    "- **DIA** : Día del mes de operación del vuelo.\n",
    "- **MES** : Número de mes de operación del vuelo.\n",
    "- **AÑO** : Año de operación del vuelo.\n",
    "- **DIANOM** : Día de la semana de operación del vuelo.\n",
    "- **TIPOVUELO** : Tipo de vuelo, I =Internacional, N =Nacional.\n",
    "- **OPERA** : Nombre de aerolínea que opera.\n",
    "- **SIGLAORI** : Nombre ciudad origen.\n",
    "- **SIGLADES** : Nombre ciudad destino.\n",
    "\n",
    "**Desafio**\n",
    "\n",
    "1. ¿Cómo se distribuyen los datos? ¿Qué te llama la atención o cuál es tu conclusión sobre esto?\n",
    "2. Genera las columnas adicionales y luego expórtelas en un archivo **synthetic_features.csv** :\n",
    "  - **temporada_alta** : 1 si Fecha-I está entre 15-Dic y 3-Mar, o 15-Jul y 31-Jul, o 11-Sep y 30-Sep, 0 si no.\n",
    "  - **dif_min** : diferencia en minutos entre Fecha-O y Fecha-I .\n",
    "  - **atraso_15** : 1 si dif_min > 15, 0 si no.\n",
    "  - **periodo_dia** : mañana (entre 5:00 y 11:59), tarde (entre 12:00 y 18:59) y noche (entre 19:00 y 4:59), en base a Fecha-I \n",
    "  \n",
    "\n",
    "3. ¿Cómo se compone la tasa de atraso por destino, aerolínea, mes del año, día de la semana, temporada, tipo de vuelo?\n",
    "¿Qué variables esperarías que más influyeran en predecir atrasos?\n",
    "4. Entrena uno o varios modelos (usando el/los algoritmo(s) que prefieras) para estimar la probabilidad de atraso de un vuelo.\n",
    "Siéntete libre de generar variables adicionales y/o complementar con variables externas.\n",
    "5. Evalúa tu modelo. ¿Qué performance tiene? ¿Qué métricas usaste para evaluar esa performance y por qué? ¿Por qué\n",
    "elegiste ese algoritmo en particular? ¿Qué variables son las que más influyen en la predicción? ¿Cómo podrías mejorar la\n",
    "performance?\n",
    "\n",
    "\n"
   ]
  },
  {
   "cell_type": "markdown",
   "id": "ed545fd4",
   "metadata": {},
   "source": [
    "# Exploramos el dataset y respondemos las preguntas"
   ]
  },
  {
   "cell_type": "markdown",
   "id": "052d7835",
   "metadata": {
    "heading_collapsed": true
   },
   "source": [
    "## ¿Cómo se distribuyen los datos? ¿Qué te llama la atención o cuál es tu conclusión sobre esto?"
   ]
  },
  {
   "cell_type": "code",
   "execution_count": 2,
   "id": "b3c9a71c",
   "metadata": {
    "hidden": true,
    "scrolled": true
   },
   "outputs": [
    {
     "data": {
      "text/html": [
       "<div>\n",
       "<style scoped>\n",
       "    .dataframe tbody tr th:only-of-type {\n",
       "        vertical-align: middle;\n",
       "    }\n",
       "\n",
       "    .dataframe tbody tr th {\n",
       "        vertical-align: top;\n",
       "    }\n",
       "\n",
       "    .dataframe thead th {\n",
       "        text-align: right;\n",
       "    }\n",
       "</style>\n",
       "<table border=\"1\" class=\"dataframe\">\n",
       "  <thead>\n",
       "    <tr style=\"text-align: right;\">\n",
       "      <th></th>\n",
       "      <th>Fecha-I</th>\n",
       "      <th>Vlo-I</th>\n",
       "      <th>Ori-I</th>\n",
       "      <th>Des-I</th>\n",
       "      <th>Emp-I</th>\n",
       "      <th>Fecha-O</th>\n",
       "      <th>Vlo-O</th>\n",
       "      <th>Ori-O</th>\n",
       "      <th>Des-O</th>\n",
       "      <th>Emp-O</th>\n",
       "      <th>DIA</th>\n",
       "      <th>MES</th>\n",
       "      <th>AÑO</th>\n",
       "      <th>DIANOM</th>\n",
       "      <th>TIPOVUELO</th>\n",
       "      <th>OPERA</th>\n",
       "      <th>SIGLAORI</th>\n",
       "      <th>SIGLADES</th>\n",
       "    </tr>\n",
       "  </thead>\n",
       "  <tbody>\n",
       "    <tr>\n",
       "      <th>0</th>\n",
       "      <td>2017-01-01 23:30:00</td>\n",
       "      <td>226</td>\n",
       "      <td>SCEL</td>\n",
       "      <td>KMIA</td>\n",
       "      <td>AAL</td>\n",
       "      <td>2017-01-01 23:33:00</td>\n",
       "      <td>226</td>\n",
       "      <td>SCEL</td>\n",
       "      <td>KMIA</td>\n",
       "      <td>AAL</td>\n",
       "      <td>1</td>\n",
       "      <td>1</td>\n",
       "      <td>2017</td>\n",
       "      <td>Domingo</td>\n",
       "      <td>I</td>\n",
       "      <td>American Airlines</td>\n",
       "      <td>Santiago</td>\n",
       "      <td>Miami</td>\n",
       "    </tr>\n",
       "    <tr>\n",
       "      <th>1</th>\n",
       "      <td>2017-01-02 23:30:00</td>\n",
       "      <td>226</td>\n",
       "      <td>SCEL</td>\n",
       "      <td>KMIA</td>\n",
       "      <td>AAL</td>\n",
       "      <td>2017-01-02 23:39:00</td>\n",
       "      <td>226</td>\n",
       "      <td>SCEL</td>\n",
       "      <td>KMIA</td>\n",
       "      <td>AAL</td>\n",
       "      <td>2</td>\n",
       "      <td>1</td>\n",
       "      <td>2017</td>\n",
       "      <td>Lunes</td>\n",
       "      <td>I</td>\n",
       "      <td>American Airlines</td>\n",
       "      <td>Santiago</td>\n",
       "      <td>Miami</td>\n",
       "    </tr>\n",
       "    <tr>\n",
       "      <th>2</th>\n",
       "      <td>2017-01-03 23:30:00</td>\n",
       "      <td>226</td>\n",
       "      <td>SCEL</td>\n",
       "      <td>KMIA</td>\n",
       "      <td>AAL</td>\n",
       "      <td>2017-01-03 23:39:00</td>\n",
       "      <td>226</td>\n",
       "      <td>SCEL</td>\n",
       "      <td>KMIA</td>\n",
       "      <td>AAL</td>\n",
       "      <td>3</td>\n",
       "      <td>1</td>\n",
       "      <td>2017</td>\n",
       "      <td>Martes</td>\n",
       "      <td>I</td>\n",
       "      <td>American Airlines</td>\n",
       "      <td>Santiago</td>\n",
       "      <td>Miami</td>\n",
       "    </tr>\n",
       "    <tr>\n",
       "      <th>3</th>\n",
       "      <td>2017-01-04 23:30:00</td>\n",
       "      <td>226</td>\n",
       "      <td>SCEL</td>\n",
       "      <td>KMIA</td>\n",
       "      <td>AAL</td>\n",
       "      <td>2017-01-04 23:33:00</td>\n",
       "      <td>226</td>\n",
       "      <td>SCEL</td>\n",
       "      <td>KMIA</td>\n",
       "      <td>AAL</td>\n",
       "      <td>4</td>\n",
       "      <td>1</td>\n",
       "      <td>2017</td>\n",
       "      <td>Miercoles</td>\n",
       "      <td>I</td>\n",
       "      <td>American Airlines</td>\n",
       "      <td>Santiago</td>\n",
       "      <td>Miami</td>\n",
       "    </tr>\n",
       "    <tr>\n",
       "      <th>4</th>\n",
       "      <td>2017-01-05 23:30:00</td>\n",
       "      <td>226</td>\n",
       "      <td>SCEL</td>\n",
       "      <td>KMIA</td>\n",
       "      <td>AAL</td>\n",
       "      <td>2017-01-05 23:28:00</td>\n",
       "      <td>226</td>\n",
       "      <td>SCEL</td>\n",
       "      <td>KMIA</td>\n",
       "      <td>AAL</td>\n",
       "      <td>5</td>\n",
       "      <td>1</td>\n",
       "      <td>2017</td>\n",
       "      <td>Jueves</td>\n",
       "      <td>I</td>\n",
       "      <td>American Airlines</td>\n",
       "      <td>Santiago</td>\n",
       "      <td>Miami</td>\n",
       "    </tr>\n",
       "  </tbody>\n",
       "</table>\n",
       "</div>"
      ],
      "text/plain": [
       "               Fecha-I Vlo-I Ori-I Des-I Emp-I              Fecha-O Vlo-O  \\\n",
       "0  2017-01-01 23:30:00   226  SCEL  KMIA   AAL  2017-01-01 23:33:00   226   \n",
       "1  2017-01-02 23:30:00   226  SCEL  KMIA   AAL  2017-01-02 23:39:00   226   \n",
       "2  2017-01-03 23:30:00   226  SCEL  KMIA   AAL  2017-01-03 23:39:00   226   \n",
       "3  2017-01-04 23:30:00   226  SCEL  KMIA   AAL  2017-01-04 23:33:00   226   \n",
       "4  2017-01-05 23:30:00   226  SCEL  KMIA   AAL  2017-01-05 23:28:00   226   \n",
       "\n",
       "  Ori-O Des-O Emp-O  DIA  MES   AÑO     DIANOM TIPOVUELO              OPERA  \\\n",
       "0  SCEL  KMIA   AAL    1    1  2017    Domingo         I  American Airlines   \n",
       "1  SCEL  KMIA   AAL    2    1  2017      Lunes         I  American Airlines   \n",
       "2  SCEL  KMIA   AAL    3    1  2017     Martes         I  American Airlines   \n",
       "3  SCEL  KMIA   AAL    4    1  2017  Miercoles         I  American Airlines   \n",
       "4  SCEL  KMIA   AAL    5    1  2017     Jueves         I  American Airlines   \n",
       "\n",
       "   SIGLAORI SIGLADES  \n",
       "0  Santiago    Miami  \n",
       "1  Santiago    Miami  \n",
       "2  Santiago    Miami  \n",
       "3  Santiago    Miami  \n",
       "4  Santiago    Miami  "
      ]
     },
     "execution_count": 2,
     "metadata": {},
     "output_type": "execute_result"
    }
   ],
   "source": [
    "df = pd.read_csv('dataset_SCL.csv')\n",
    "df.head()"
   ]
  },
  {
   "cell_type": "code",
   "execution_count": 3,
   "id": "6e86a884",
   "metadata": {
    "hidden": true,
    "scrolled": false
   },
   "outputs": [
    {
     "name": "stdout",
     "output_type": "stream",
     "text": [
      "<class 'pandas.core.frame.DataFrame'>\n",
      "RangeIndex: 68206 entries, 0 to 68205\n",
      "Data columns (total 18 columns):\n",
      " #   Column     Non-Null Count  Dtype \n",
      "---  ------     --------------  ----- \n",
      " 0   Fecha-I    68206 non-null  object\n",
      " 1   Vlo-I      68206 non-null  object\n",
      " 2   Ori-I      68206 non-null  object\n",
      " 3   Des-I      68206 non-null  object\n",
      " 4   Emp-I      68206 non-null  object\n",
      " 5   Fecha-O    68206 non-null  object\n",
      " 6   Vlo-O      68205 non-null  object\n",
      " 7   Ori-O      68206 non-null  object\n",
      " 8   Des-O      68206 non-null  object\n",
      " 9   Emp-O      68206 non-null  object\n",
      " 10  DIA        68206 non-null  int64 \n",
      " 11  MES        68206 non-null  int64 \n",
      " 12  AÑO        68206 non-null  int64 \n",
      " 13  DIANOM     68206 non-null  object\n",
      " 14  TIPOVUELO  68206 non-null  object\n",
      " 15  OPERA      68206 non-null  object\n",
      " 16  SIGLAORI   68206 non-null  object\n",
      " 17  SIGLADES   68206 non-null  object\n",
      "dtypes: int64(3), object(15)\n",
      "memory usage: 9.4+ MB\n"
     ]
    }
   ],
   "source": [
    "df.info()"
   ]
  },
  {
   "cell_type": "code",
   "execution_count": 4,
   "id": "42351d2d",
   "metadata": {
    "hidden": true
   },
   "outputs": [
    {
     "data": {
      "text/plain": [
       "(68206, 18)"
      ]
     },
     "execution_count": 4,
     "metadata": {},
     "output_type": "execute_result"
    }
   ],
   "source": [
    "df.shape"
   ]
  },
  {
   "cell_type": "code",
   "execution_count": 5,
   "id": "fe79452d",
   "metadata": {
    "hidden": true,
    "scrolled": true
   },
   "outputs": [
    {
     "data": {
      "text/plain": [
       "object    15\n",
       "int64      3\n",
       "dtype: int64"
      ]
     },
     "execution_count": 5,
     "metadata": {},
     "output_type": "execute_result"
    }
   ],
   "source": [
    "df.dtypes.value_counts()"
   ]
  },
  {
   "cell_type": "code",
   "execution_count": 6,
   "id": "bf307a93",
   "metadata": {
    "hidden": true
   },
   "outputs": [
    {
     "data": {
      "text/plain": [
       "Vlo-O        0.000015\n",
       "Fecha-I      0.000000\n",
       "DIA          0.000000\n",
       "SIGLAORI     0.000000\n",
       "OPERA        0.000000\n",
       "TIPOVUELO    0.000000\n",
       "DIANOM       0.000000\n",
       "AÑO          0.000000\n",
       "MES          0.000000\n",
       "Emp-O        0.000000\n",
       "Vlo-I        0.000000\n",
       "Des-O        0.000000\n",
       "Ori-O        0.000000\n",
       "Fecha-O      0.000000\n",
       "Emp-I        0.000000\n",
       "Des-I        0.000000\n",
       "Ori-I        0.000000\n",
       "SIGLADES     0.000000\n",
       "dtype: float64"
      ]
     },
     "execution_count": 6,
     "metadata": {},
     "output_type": "execute_result"
    }
   ],
   "source": [
    "df.isnull().sum().sort_values(ascending=False)/len(df)"
   ]
  },
  {
   "cell_type": "markdown",
   "id": "1f63d61a",
   "metadata": {
    "hidden": true
   },
   "source": [
    "- La respuesta  la primer pregunta es que tenemos un total de 15 variables objetos, entre ellas categoricas que tendriamos que trabajarlas a cada una.\n",
    "- La fecha se tiene que trabajar en formato datetime, tendremos que ver la diferencia entre dia nominal y dia\n",
    "- Tenemos muy pocas variables nulas, asi que las podemos eliminar tranquilamente"
   ]
  },
  {
   "cell_type": "code",
   "execution_count": 7,
   "id": "b767b17a",
   "metadata": {
    "hidden": true
   },
   "outputs": [],
   "source": [
    "df['Fecha-I'] = pd.to_datetime(df['Fecha-I'], format = '%Y-%m-%d %H:%M:%S')\n",
    "df['Fecha-O'] = pd.to_datetime(df['Fecha-O'], format = '%Y-%m-%d %H:%M:%S')"
   ]
  },
  {
   "cell_type": "code",
   "execution_count": 8,
   "id": "72cde9fe",
   "metadata": {
    "hidden": true
   },
   "outputs": [
    {
     "name": "stdout",
     "output_type": "stream",
     "text": [
      "<class 'pandas.core.frame.DataFrame'>\n",
      "RangeIndex: 68206 entries, 0 to 68205\n",
      "Data columns (total 18 columns):\n",
      " #   Column     Non-Null Count  Dtype         \n",
      "---  ------     --------------  -----         \n",
      " 0   Fecha-I    68206 non-null  datetime64[ns]\n",
      " 1   Vlo-I      68206 non-null  object        \n",
      " 2   Ori-I      68206 non-null  object        \n",
      " 3   Des-I      68206 non-null  object        \n",
      " 4   Emp-I      68206 non-null  object        \n",
      " 5   Fecha-O    68206 non-null  datetime64[ns]\n",
      " 6   Vlo-O      68205 non-null  object        \n",
      " 7   Ori-O      68206 non-null  object        \n",
      " 8   Des-O      68206 non-null  object        \n",
      " 9   Emp-O      68206 non-null  object        \n",
      " 10  DIA        68206 non-null  int64         \n",
      " 11  MES        68206 non-null  int64         \n",
      " 12  AÑO        68206 non-null  int64         \n",
      " 13  DIANOM     68206 non-null  object        \n",
      " 14  TIPOVUELO  68206 non-null  object        \n",
      " 15  OPERA      68206 non-null  object        \n",
      " 16  SIGLAORI   68206 non-null  object        \n",
      " 17  SIGLADES   68206 non-null  object        \n",
      "dtypes: datetime64[ns](2), int64(3), object(13)\n",
      "memory usage: 9.4+ MB\n"
     ]
    }
   ],
   "source": [
    "df.info()"
   ]
  },
  {
   "cell_type": "markdown",
   "id": "c3f82205",
   "metadata": {
    "heading_collapsed": true
   },
   "source": [
    "## Genera las columnas adicionales y luego expórtelas en un archivo synthetic_features.csv :\n",
    "- temporada_alta : 1 si Fecha-I está entre 15-Dic y 3-Mar, o 15-Jul y 31-Jul, o 11-Sep y 30-Sep, 0 si no.\n",
    "- dif_min : diferencia en minutos entre Fecha-O y Fecha-I .\n",
    "- atraso_15 : 1 si dif_min > 15, 0 si no.\n",
    "- periodo_dia : mañana (entre 5:00 y 11:59), tarde (entre 12:00 y 18:59) y noche (entre 19:00 y 4:59), en base a Fecha-I"
   ]
  },
  {
   "cell_type": "code",
   "execution_count": 9,
   "id": "ac12fef5",
   "metadata": {
    "hidden": true
   },
   "outputs": [],
   "source": [
    "#dif_min : diferencia en minutos entre Fecha-O y Fecha-I .\n",
    "\n",
    "df['dif_min'] = (df['Fecha-O'] - df['Fecha-I'])/ np.timedelta64(1, 'h') * 60"
   ]
  },
  {
   "cell_type": "code",
   "execution_count": 10,
   "id": "79f40f50",
   "metadata": {
    "hidden": true
   },
   "outputs": [],
   "source": [
    "#Creamos una funcion para ttrabajar las diferencias de tiempo negativas\n",
    "\n",
    "def absol(x):\n",
    "    if x > 0:\n",
    "        return x\n",
    "    return 0"
   ]
  },
  {
   "cell_type": "code",
   "execution_count": 11,
   "id": "40f0bc15",
   "metadata": {
    "hidden": true
   },
   "outputs": [],
   "source": [
    "df['dif_min']= df['dif_min'].apply(absol) "
   ]
  },
  {
   "cell_type": "code",
   "execution_count": 12,
   "id": "56ac07be",
   "metadata": {
    "hidden": true,
    "scrolled": true
   },
   "outputs": [
    {
     "data": {
      "text/html": [
       "<div>\n",
       "<style scoped>\n",
       "    .dataframe tbody tr th:only-of-type {\n",
       "        vertical-align: middle;\n",
       "    }\n",
       "\n",
       "    .dataframe tbody tr th {\n",
       "        vertical-align: top;\n",
       "    }\n",
       "\n",
       "    .dataframe thead th {\n",
       "        text-align: right;\n",
       "    }\n",
       "</style>\n",
       "<table border=\"1\" class=\"dataframe\">\n",
       "  <thead>\n",
       "    <tr style=\"text-align: right;\">\n",
       "      <th></th>\n",
       "      <th>Fecha-I</th>\n",
       "      <th>Vlo-I</th>\n",
       "      <th>Ori-I</th>\n",
       "      <th>Des-I</th>\n",
       "      <th>Emp-I</th>\n",
       "      <th>Fecha-O</th>\n",
       "      <th>Vlo-O</th>\n",
       "      <th>Ori-O</th>\n",
       "      <th>Des-O</th>\n",
       "      <th>Emp-O</th>\n",
       "      <th>DIA</th>\n",
       "      <th>MES</th>\n",
       "      <th>AÑO</th>\n",
       "      <th>DIANOM</th>\n",
       "      <th>TIPOVUELO</th>\n",
       "      <th>OPERA</th>\n",
       "      <th>SIGLAORI</th>\n",
       "      <th>SIGLADES</th>\n",
       "      <th>dif_min</th>\n",
       "    </tr>\n",
       "  </thead>\n",
       "  <tbody>\n",
       "    <tr>\n",
       "      <th>0</th>\n",
       "      <td>2017-01-01 23:30:00</td>\n",
       "      <td>226</td>\n",
       "      <td>SCEL</td>\n",
       "      <td>KMIA</td>\n",
       "      <td>AAL</td>\n",
       "      <td>2017-01-01 23:33:00</td>\n",
       "      <td>226</td>\n",
       "      <td>SCEL</td>\n",
       "      <td>KMIA</td>\n",
       "      <td>AAL</td>\n",
       "      <td>1</td>\n",
       "      <td>1</td>\n",
       "      <td>2017</td>\n",
       "      <td>Domingo</td>\n",
       "      <td>I</td>\n",
       "      <td>American Airlines</td>\n",
       "      <td>Santiago</td>\n",
       "      <td>Miami</td>\n",
       "      <td>3.0</td>\n",
       "    </tr>\n",
       "    <tr>\n",
       "      <th>1</th>\n",
       "      <td>2017-01-02 23:30:00</td>\n",
       "      <td>226</td>\n",
       "      <td>SCEL</td>\n",
       "      <td>KMIA</td>\n",
       "      <td>AAL</td>\n",
       "      <td>2017-01-02 23:39:00</td>\n",
       "      <td>226</td>\n",
       "      <td>SCEL</td>\n",
       "      <td>KMIA</td>\n",
       "      <td>AAL</td>\n",
       "      <td>2</td>\n",
       "      <td>1</td>\n",
       "      <td>2017</td>\n",
       "      <td>Lunes</td>\n",
       "      <td>I</td>\n",
       "      <td>American Airlines</td>\n",
       "      <td>Santiago</td>\n",
       "      <td>Miami</td>\n",
       "      <td>9.0</td>\n",
       "    </tr>\n",
       "    <tr>\n",
       "      <th>2</th>\n",
       "      <td>2017-01-03 23:30:00</td>\n",
       "      <td>226</td>\n",
       "      <td>SCEL</td>\n",
       "      <td>KMIA</td>\n",
       "      <td>AAL</td>\n",
       "      <td>2017-01-03 23:39:00</td>\n",
       "      <td>226</td>\n",
       "      <td>SCEL</td>\n",
       "      <td>KMIA</td>\n",
       "      <td>AAL</td>\n",
       "      <td>3</td>\n",
       "      <td>1</td>\n",
       "      <td>2017</td>\n",
       "      <td>Martes</td>\n",
       "      <td>I</td>\n",
       "      <td>American Airlines</td>\n",
       "      <td>Santiago</td>\n",
       "      <td>Miami</td>\n",
       "      <td>9.0</td>\n",
       "    </tr>\n",
       "    <tr>\n",
       "      <th>3</th>\n",
       "      <td>2017-01-04 23:30:00</td>\n",
       "      <td>226</td>\n",
       "      <td>SCEL</td>\n",
       "      <td>KMIA</td>\n",
       "      <td>AAL</td>\n",
       "      <td>2017-01-04 23:33:00</td>\n",
       "      <td>226</td>\n",
       "      <td>SCEL</td>\n",
       "      <td>KMIA</td>\n",
       "      <td>AAL</td>\n",
       "      <td>4</td>\n",
       "      <td>1</td>\n",
       "      <td>2017</td>\n",
       "      <td>Miercoles</td>\n",
       "      <td>I</td>\n",
       "      <td>American Airlines</td>\n",
       "      <td>Santiago</td>\n",
       "      <td>Miami</td>\n",
       "      <td>3.0</td>\n",
       "    </tr>\n",
       "    <tr>\n",
       "      <th>4</th>\n",
       "      <td>2017-01-05 23:30:00</td>\n",
       "      <td>226</td>\n",
       "      <td>SCEL</td>\n",
       "      <td>KMIA</td>\n",
       "      <td>AAL</td>\n",
       "      <td>2017-01-05 23:28:00</td>\n",
       "      <td>226</td>\n",
       "      <td>SCEL</td>\n",
       "      <td>KMIA</td>\n",
       "      <td>AAL</td>\n",
       "      <td>5</td>\n",
       "      <td>1</td>\n",
       "      <td>2017</td>\n",
       "      <td>Jueves</td>\n",
       "      <td>I</td>\n",
       "      <td>American Airlines</td>\n",
       "      <td>Santiago</td>\n",
       "      <td>Miami</td>\n",
       "      <td>0.0</td>\n",
       "    </tr>\n",
       "  </tbody>\n",
       "</table>\n",
       "</div>"
      ],
      "text/plain": [
       "              Fecha-I Vlo-I Ori-I Des-I Emp-I             Fecha-O Vlo-O Ori-O  \\\n",
       "0 2017-01-01 23:30:00   226  SCEL  KMIA   AAL 2017-01-01 23:33:00   226  SCEL   \n",
       "1 2017-01-02 23:30:00   226  SCEL  KMIA   AAL 2017-01-02 23:39:00   226  SCEL   \n",
       "2 2017-01-03 23:30:00   226  SCEL  KMIA   AAL 2017-01-03 23:39:00   226  SCEL   \n",
       "3 2017-01-04 23:30:00   226  SCEL  KMIA   AAL 2017-01-04 23:33:00   226  SCEL   \n",
       "4 2017-01-05 23:30:00   226  SCEL  KMIA   AAL 2017-01-05 23:28:00   226  SCEL   \n",
       "\n",
       "  Des-O Emp-O  DIA  MES   AÑO     DIANOM TIPOVUELO              OPERA  \\\n",
       "0  KMIA   AAL    1    1  2017    Domingo         I  American Airlines   \n",
       "1  KMIA   AAL    2    1  2017      Lunes         I  American Airlines   \n",
       "2  KMIA   AAL    3    1  2017     Martes         I  American Airlines   \n",
       "3  KMIA   AAL    4    1  2017  Miercoles         I  American Airlines   \n",
       "4  KMIA   AAL    5    1  2017     Jueves         I  American Airlines   \n",
       "\n",
       "   SIGLAORI SIGLADES  dif_min  \n",
       "0  Santiago    Miami      3.0  \n",
       "1  Santiago    Miami      9.0  \n",
       "2  Santiago    Miami      9.0  \n",
       "3  Santiago    Miami      3.0  \n",
       "4  Santiago    Miami      0.0  "
      ]
     },
     "execution_count": 12,
     "metadata": {},
     "output_type": "execute_result"
    }
   ],
   "source": [
    "df.head()"
   ]
  },
  {
   "cell_type": "code",
   "execution_count": 14,
   "id": "3cb46f06",
   "metadata": {
    "hidden": true
   },
   "outputs": [],
   "source": [
    "#atraso_15 : 1 si dif_min > 15, 0 si no.\n",
    "# funcion para retraso\n",
    "def retraso(x):\n",
    "    if x > 15:\n",
    "        return 1\n",
    "    return 0"
   ]
  },
  {
   "cell_type": "code",
   "execution_count": 15,
   "id": "8fb18501",
   "metadata": {
    "hidden": true
   },
   "outputs": [],
   "source": [
    "df['atraso_15'] = df['dif_min'].apply(retraso)"
   ]
  },
  {
   "cell_type": "code",
   "execution_count": 16,
   "id": "a682b8c1",
   "metadata": {
    "hidden": true
   },
   "outputs": [
    {
     "data": {
      "text/html": [
       "<div>\n",
       "<style scoped>\n",
       "    .dataframe tbody tr th:only-of-type {\n",
       "        vertical-align: middle;\n",
       "    }\n",
       "\n",
       "    .dataframe tbody tr th {\n",
       "        vertical-align: top;\n",
       "    }\n",
       "\n",
       "    .dataframe thead th {\n",
       "        text-align: right;\n",
       "    }\n",
       "</style>\n",
       "<table border=\"1\" class=\"dataframe\">\n",
       "  <thead>\n",
       "    <tr style=\"text-align: right;\">\n",
       "      <th></th>\n",
       "      <th>Fecha-I</th>\n",
       "      <th>Vlo-I</th>\n",
       "      <th>Ori-I</th>\n",
       "      <th>Des-I</th>\n",
       "      <th>Emp-I</th>\n",
       "      <th>Fecha-O</th>\n",
       "      <th>Vlo-O</th>\n",
       "      <th>Ori-O</th>\n",
       "      <th>Des-O</th>\n",
       "      <th>Emp-O</th>\n",
       "      <th>DIA</th>\n",
       "      <th>MES</th>\n",
       "      <th>AÑO</th>\n",
       "      <th>DIANOM</th>\n",
       "      <th>TIPOVUELO</th>\n",
       "      <th>OPERA</th>\n",
       "      <th>SIGLAORI</th>\n",
       "      <th>SIGLADES</th>\n",
       "      <th>dif_min</th>\n",
       "      <th>atraso_15</th>\n",
       "    </tr>\n",
       "  </thead>\n",
       "  <tbody>\n",
       "    <tr>\n",
       "      <th>0</th>\n",
       "      <td>2017-01-01 23:30:00</td>\n",
       "      <td>226</td>\n",
       "      <td>SCEL</td>\n",
       "      <td>KMIA</td>\n",
       "      <td>AAL</td>\n",
       "      <td>2017-01-01 23:33:00</td>\n",
       "      <td>226</td>\n",
       "      <td>SCEL</td>\n",
       "      <td>KMIA</td>\n",
       "      <td>AAL</td>\n",
       "      <td>1</td>\n",
       "      <td>1</td>\n",
       "      <td>2017</td>\n",
       "      <td>Domingo</td>\n",
       "      <td>I</td>\n",
       "      <td>American Airlines</td>\n",
       "      <td>Santiago</td>\n",
       "      <td>Miami</td>\n",
       "      <td>3.0</td>\n",
       "      <td>0</td>\n",
       "    </tr>\n",
       "    <tr>\n",
       "      <th>1</th>\n",
       "      <td>2017-01-02 23:30:00</td>\n",
       "      <td>226</td>\n",
       "      <td>SCEL</td>\n",
       "      <td>KMIA</td>\n",
       "      <td>AAL</td>\n",
       "      <td>2017-01-02 23:39:00</td>\n",
       "      <td>226</td>\n",
       "      <td>SCEL</td>\n",
       "      <td>KMIA</td>\n",
       "      <td>AAL</td>\n",
       "      <td>2</td>\n",
       "      <td>1</td>\n",
       "      <td>2017</td>\n",
       "      <td>Lunes</td>\n",
       "      <td>I</td>\n",
       "      <td>American Airlines</td>\n",
       "      <td>Santiago</td>\n",
       "      <td>Miami</td>\n",
       "      <td>9.0</td>\n",
       "      <td>0</td>\n",
       "    </tr>\n",
       "    <tr>\n",
       "      <th>2</th>\n",
       "      <td>2017-01-03 23:30:00</td>\n",
       "      <td>226</td>\n",
       "      <td>SCEL</td>\n",
       "      <td>KMIA</td>\n",
       "      <td>AAL</td>\n",
       "      <td>2017-01-03 23:39:00</td>\n",
       "      <td>226</td>\n",
       "      <td>SCEL</td>\n",
       "      <td>KMIA</td>\n",
       "      <td>AAL</td>\n",
       "      <td>3</td>\n",
       "      <td>1</td>\n",
       "      <td>2017</td>\n",
       "      <td>Martes</td>\n",
       "      <td>I</td>\n",
       "      <td>American Airlines</td>\n",
       "      <td>Santiago</td>\n",
       "      <td>Miami</td>\n",
       "      <td>9.0</td>\n",
       "      <td>0</td>\n",
       "    </tr>\n",
       "    <tr>\n",
       "      <th>3</th>\n",
       "      <td>2017-01-04 23:30:00</td>\n",
       "      <td>226</td>\n",
       "      <td>SCEL</td>\n",
       "      <td>KMIA</td>\n",
       "      <td>AAL</td>\n",
       "      <td>2017-01-04 23:33:00</td>\n",
       "      <td>226</td>\n",
       "      <td>SCEL</td>\n",
       "      <td>KMIA</td>\n",
       "      <td>AAL</td>\n",
       "      <td>4</td>\n",
       "      <td>1</td>\n",
       "      <td>2017</td>\n",
       "      <td>Miercoles</td>\n",
       "      <td>I</td>\n",
       "      <td>American Airlines</td>\n",
       "      <td>Santiago</td>\n",
       "      <td>Miami</td>\n",
       "      <td>3.0</td>\n",
       "      <td>0</td>\n",
       "    </tr>\n",
       "    <tr>\n",
       "      <th>4</th>\n",
       "      <td>2017-01-05 23:30:00</td>\n",
       "      <td>226</td>\n",
       "      <td>SCEL</td>\n",
       "      <td>KMIA</td>\n",
       "      <td>AAL</td>\n",
       "      <td>2017-01-05 23:28:00</td>\n",
       "      <td>226</td>\n",
       "      <td>SCEL</td>\n",
       "      <td>KMIA</td>\n",
       "      <td>AAL</td>\n",
       "      <td>5</td>\n",
       "      <td>1</td>\n",
       "      <td>2017</td>\n",
       "      <td>Jueves</td>\n",
       "      <td>I</td>\n",
       "      <td>American Airlines</td>\n",
       "      <td>Santiago</td>\n",
       "      <td>Miami</td>\n",
       "      <td>0.0</td>\n",
       "      <td>0</td>\n",
       "    </tr>\n",
       "  </tbody>\n",
       "</table>\n",
       "</div>"
      ],
      "text/plain": [
       "              Fecha-I Vlo-I Ori-I Des-I Emp-I             Fecha-O Vlo-O Ori-O  \\\n",
       "0 2017-01-01 23:30:00   226  SCEL  KMIA   AAL 2017-01-01 23:33:00   226  SCEL   \n",
       "1 2017-01-02 23:30:00   226  SCEL  KMIA   AAL 2017-01-02 23:39:00   226  SCEL   \n",
       "2 2017-01-03 23:30:00   226  SCEL  KMIA   AAL 2017-01-03 23:39:00   226  SCEL   \n",
       "3 2017-01-04 23:30:00   226  SCEL  KMIA   AAL 2017-01-04 23:33:00   226  SCEL   \n",
       "4 2017-01-05 23:30:00   226  SCEL  KMIA   AAL 2017-01-05 23:28:00   226  SCEL   \n",
       "\n",
       "  Des-O Emp-O  DIA  MES   AÑO     DIANOM TIPOVUELO              OPERA  \\\n",
       "0  KMIA   AAL    1    1  2017    Domingo         I  American Airlines   \n",
       "1  KMIA   AAL    2    1  2017      Lunes         I  American Airlines   \n",
       "2  KMIA   AAL    3    1  2017     Martes         I  American Airlines   \n",
       "3  KMIA   AAL    4    1  2017  Miercoles         I  American Airlines   \n",
       "4  KMIA   AAL    5    1  2017     Jueves         I  American Airlines   \n",
       "\n",
       "   SIGLAORI SIGLADES  dif_min  atraso_15  \n",
       "0  Santiago    Miami      3.0          0  \n",
       "1  Santiago    Miami      9.0          0  \n",
       "2  Santiago    Miami      9.0          0  \n",
       "3  Santiago    Miami      3.0          0  \n",
       "4  Santiago    Miami      0.0          0  "
      ]
     },
     "execution_count": 16,
     "metadata": {},
     "output_type": "execute_result"
    }
   ],
   "source": [
    "df.head()"
   ]
  },
  {
   "cell_type": "code",
   "execution_count": 17,
   "id": "2f1fd03d",
   "metadata": {
    "hidden": true
   },
   "outputs": [],
   "source": [
    "# temporada_alta : 1 si Fecha-I está entre 15-Dic y 3-Mar, o 15-Jul y 31-Jul, o 11-Sep y 30-Sep, 0 si no.\n",
    "\n",
    "def temporada(x):\n",
    "    x = pd.to_datetime(x, format = '%Y-%m-%d %H:%M:%S').strftime('%Y-%m-%d')\n",
    "    if (x>='2017-12-15') or (x <= '2017-03-03'):\n",
    "        return 1\n",
    "    if (x>='2017-07-15') and (x <= '2017-07-31'):\n",
    "        return 1\n",
    "    if (x>='2017-09-11') and (x <= '2017-09-30'):\n",
    "        return 1\n",
    "    else:\n",
    "        return 0\n",
    "    "
   ]
  },
  {
   "cell_type": "code",
   "execution_count": 18,
   "id": "714fe526",
   "metadata": {
    "hidden": true
   },
   "outputs": [],
   "source": [
    "df['temporada_alta'] = df['Fecha-I'].apply(temporada)"
   ]
  },
  {
   "cell_type": "code",
   "execution_count": null,
   "id": "563a3462",
   "metadata": {
    "hidden": true
   },
   "outputs": [],
   "source": []
  },
  {
   "cell_type": "code",
   "execution_count": 20,
   "id": "504ec050",
   "metadata": {
    "hidden": true
   },
   "outputs": [
    {
     "data": {
      "text/html": [
       "<div>\n",
       "<style scoped>\n",
       "    .dataframe tbody tr th:only-of-type {\n",
       "        vertical-align: middle;\n",
       "    }\n",
       "\n",
       "    .dataframe tbody tr th {\n",
       "        vertical-align: top;\n",
       "    }\n",
       "\n",
       "    .dataframe thead th {\n",
       "        text-align: right;\n",
       "    }\n",
       "</style>\n",
       "<table border=\"1\" class=\"dataframe\">\n",
       "  <thead>\n",
       "    <tr style=\"text-align: right;\">\n",
       "      <th></th>\n",
       "      <th>Fecha-I</th>\n",
       "      <th>Vlo-I</th>\n",
       "      <th>Ori-I</th>\n",
       "      <th>Des-I</th>\n",
       "      <th>Emp-I</th>\n",
       "      <th>Fecha-O</th>\n",
       "      <th>Vlo-O</th>\n",
       "      <th>Ori-O</th>\n",
       "      <th>Des-O</th>\n",
       "      <th>Emp-O</th>\n",
       "      <th>...</th>\n",
       "      <th>MES</th>\n",
       "      <th>AÑO</th>\n",
       "      <th>DIANOM</th>\n",
       "      <th>TIPOVUELO</th>\n",
       "      <th>OPERA</th>\n",
       "      <th>SIGLAORI</th>\n",
       "      <th>SIGLADES</th>\n",
       "      <th>dif_min</th>\n",
       "      <th>atraso_15</th>\n",
       "      <th>temporada_alta</th>\n",
       "    </tr>\n",
       "  </thead>\n",
       "  <tbody>\n",
       "    <tr>\n",
       "      <th>68201</th>\n",
       "      <td>2017-12-22 14:55:00</td>\n",
       "      <td>400</td>\n",
       "      <td>SCEL</td>\n",
       "      <td>SPJC</td>\n",
       "      <td>JAT</td>\n",
       "      <td>2017-12-22 15:41:00</td>\n",
       "      <td>400.0</td>\n",
       "      <td>SCEL</td>\n",
       "      <td>SPJC</td>\n",
       "      <td>JAT</td>\n",
       "      <td>...</td>\n",
       "      <td>12</td>\n",
       "      <td>2017</td>\n",
       "      <td>Viernes</td>\n",
       "      <td>I</td>\n",
       "      <td>JetSmart SPA</td>\n",
       "      <td>Santiago</td>\n",
       "      <td>Lima</td>\n",
       "      <td>46.0</td>\n",
       "      <td>1</td>\n",
       "      <td>1</td>\n",
       "    </tr>\n",
       "    <tr>\n",
       "      <th>68202</th>\n",
       "      <td>2017-12-25 14:55:00</td>\n",
       "      <td>400</td>\n",
       "      <td>SCEL</td>\n",
       "      <td>SPJC</td>\n",
       "      <td>JAT</td>\n",
       "      <td>2017-12-25 15:11:00</td>\n",
       "      <td>400.0</td>\n",
       "      <td>SCEL</td>\n",
       "      <td>SPJC</td>\n",
       "      <td>JAT</td>\n",
       "      <td>...</td>\n",
       "      <td>12</td>\n",
       "      <td>2017</td>\n",
       "      <td>Lunes</td>\n",
       "      <td>I</td>\n",
       "      <td>JetSmart SPA</td>\n",
       "      <td>Santiago</td>\n",
       "      <td>Lima</td>\n",
       "      <td>16.0</td>\n",
       "      <td>1</td>\n",
       "      <td>1</td>\n",
       "    </tr>\n",
       "    <tr>\n",
       "      <th>68203</th>\n",
       "      <td>2017-12-27 14:55:00</td>\n",
       "      <td>400</td>\n",
       "      <td>SCEL</td>\n",
       "      <td>SPJC</td>\n",
       "      <td>JAT</td>\n",
       "      <td>2017-12-27 15:35:00</td>\n",
       "      <td>400.0</td>\n",
       "      <td>SCEL</td>\n",
       "      <td>SPJC</td>\n",
       "      <td>JAT</td>\n",
       "      <td>...</td>\n",
       "      <td>12</td>\n",
       "      <td>2017</td>\n",
       "      <td>Miercoles</td>\n",
       "      <td>I</td>\n",
       "      <td>JetSmart SPA</td>\n",
       "      <td>Santiago</td>\n",
       "      <td>Lima</td>\n",
       "      <td>40.0</td>\n",
       "      <td>1</td>\n",
       "      <td>1</td>\n",
       "    </tr>\n",
       "    <tr>\n",
       "      <th>68204</th>\n",
       "      <td>2017-12-29 14:55:00</td>\n",
       "      <td>400</td>\n",
       "      <td>SCEL</td>\n",
       "      <td>SPJC</td>\n",
       "      <td>JAT</td>\n",
       "      <td>2017-12-29 15:08:00</td>\n",
       "      <td>400.0</td>\n",
       "      <td>SCEL</td>\n",
       "      <td>SPJC</td>\n",
       "      <td>JAT</td>\n",
       "      <td>...</td>\n",
       "      <td>12</td>\n",
       "      <td>2017</td>\n",
       "      <td>Viernes</td>\n",
       "      <td>I</td>\n",
       "      <td>JetSmart SPA</td>\n",
       "      <td>Santiago</td>\n",
       "      <td>Lima</td>\n",
       "      <td>13.0</td>\n",
       "      <td>0</td>\n",
       "      <td>1</td>\n",
       "    </tr>\n",
       "    <tr>\n",
       "      <th>68205</th>\n",
       "      <td>2017-12-31 14:55:00</td>\n",
       "      <td>400</td>\n",
       "      <td>SCEL</td>\n",
       "      <td>SPJC</td>\n",
       "      <td>JAT</td>\n",
       "      <td>2017-12-31 15:04:00</td>\n",
       "      <td>400.0</td>\n",
       "      <td>SCEL</td>\n",
       "      <td>SPJC</td>\n",
       "      <td>JAT</td>\n",
       "      <td>...</td>\n",
       "      <td>12</td>\n",
       "      <td>2017</td>\n",
       "      <td>Domingo</td>\n",
       "      <td>I</td>\n",
       "      <td>JetSmart SPA</td>\n",
       "      <td>Santiago</td>\n",
       "      <td>Lima</td>\n",
       "      <td>9.0</td>\n",
       "      <td>0</td>\n",
       "      <td>1</td>\n",
       "    </tr>\n",
       "  </tbody>\n",
       "</table>\n",
       "<p>5 rows × 21 columns</p>\n",
       "</div>"
      ],
      "text/plain": [
       "                  Fecha-I Vlo-I Ori-I Des-I Emp-I             Fecha-O  Vlo-O  \\\n",
       "68201 2017-12-22 14:55:00   400  SCEL  SPJC   JAT 2017-12-22 15:41:00  400.0   \n",
       "68202 2017-12-25 14:55:00   400  SCEL  SPJC   JAT 2017-12-25 15:11:00  400.0   \n",
       "68203 2017-12-27 14:55:00   400  SCEL  SPJC   JAT 2017-12-27 15:35:00  400.0   \n",
       "68204 2017-12-29 14:55:00   400  SCEL  SPJC   JAT 2017-12-29 15:08:00  400.0   \n",
       "68205 2017-12-31 14:55:00   400  SCEL  SPJC   JAT 2017-12-31 15:04:00  400.0   \n",
       "\n",
       "      Ori-O Des-O Emp-O  ...  MES   AÑO     DIANOM TIPOVUELO         OPERA  \\\n",
       "68201  SCEL  SPJC   JAT  ...   12  2017    Viernes         I  JetSmart SPA   \n",
       "68202  SCEL  SPJC   JAT  ...   12  2017      Lunes         I  JetSmart SPA   \n",
       "68203  SCEL  SPJC   JAT  ...   12  2017  Miercoles         I  JetSmart SPA   \n",
       "68204  SCEL  SPJC   JAT  ...   12  2017    Viernes         I  JetSmart SPA   \n",
       "68205  SCEL  SPJC   JAT  ...   12  2017    Domingo         I  JetSmart SPA   \n",
       "\n",
       "       SIGLAORI SIGLADES dif_min  atraso_15  temporada_alta  \n",
       "68201  Santiago     Lima    46.0          1               1  \n",
       "68202  Santiago     Lima    16.0          1               1  \n",
       "68203  Santiago     Lima    40.0          1               1  \n",
       "68204  Santiago     Lima    13.0          0               1  \n",
       "68205  Santiago     Lima     9.0          0               1  \n",
       "\n",
       "[5 rows x 21 columns]"
      ]
     },
     "execution_count": 20,
     "metadata": {},
     "output_type": "execute_result"
    }
   ],
   "source": [
    "df.tail()"
   ]
  },
  {
   "cell_type": "code",
   "execution_count": 21,
   "id": "058e3d14",
   "metadata": {
    "hidden": true
   },
   "outputs": [],
   "source": [
    "#periodo_dia : mañana (entre 5:00 y 11:59), tarde (entre 12:00 y 18:59) y noche (entre 19:00 y 4:59), en base a Fecha-I\n",
    "def periodos(x):\n",
    "    x = pd.to_datetime(x, format = '%H:%M').strftime('%H:%M')\n",
    "    if (x>='05:00') and (x <= '11:59'):\n",
    "        return 'mañana'\n",
    "    if (x>='12:00') and (x <= '18:59'):\n",
    "        return 'tarde'  \n",
    "    else:\n",
    "        return 'noche' \n"
   ]
  },
  {
   "cell_type": "code",
   "execution_count": 22,
   "id": "e234c699",
   "metadata": {
    "hidden": true
   },
   "outputs": [],
   "source": [
    "df['periodo_dia'] = df['Fecha-I'].apply(periodos)"
   ]
  },
  {
   "cell_type": "code",
   "execution_count": 23,
   "id": "c930f0f1",
   "metadata": {
    "hidden": true
   },
   "outputs": [
    {
     "data": {
      "text/html": [
       "<div>\n",
       "<style scoped>\n",
       "    .dataframe tbody tr th:only-of-type {\n",
       "        vertical-align: middle;\n",
       "    }\n",
       "\n",
       "    .dataframe tbody tr th {\n",
       "        vertical-align: top;\n",
       "    }\n",
       "\n",
       "    .dataframe thead th {\n",
       "        text-align: right;\n",
       "    }\n",
       "</style>\n",
       "<table border=\"1\" class=\"dataframe\">\n",
       "  <thead>\n",
       "    <tr style=\"text-align: right;\">\n",
       "      <th></th>\n",
       "      <th>Fecha-I</th>\n",
       "      <th>Vlo-I</th>\n",
       "      <th>Ori-I</th>\n",
       "      <th>Des-I</th>\n",
       "      <th>Emp-I</th>\n",
       "      <th>Fecha-O</th>\n",
       "      <th>Vlo-O</th>\n",
       "      <th>Ori-O</th>\n",
       "      <th>Des-O</th>\n",
       "      <th>Emp-O</th>\n",
       "      <th>...</th>\n",
       "      <th>AÑO</th>\n",
       "      <th>DIANOM</th>\n",
       "      <th>TIPOVUELO</th>\n",
       "      <th>OPERA</th>\n",
       "      <th>SIGLAORI</th>\n",
       "      <th>SIGLADES</th>\n",
       "      <th>dif_min</th>\n",
       "      <th>atraso_15</th>\n",
       "      <th>temporada_alta</th>\n",
       "      <th>periodo_dia</th>\n",
       "    </tr>\n",
       "  </thead>\n",
       "  <tbody>\n",
       "    <tr>\n",
       "      <th>0</th>\n",
       "      <td>2017-01-01 23:30:00</td>\n",
       "      <td>226</td>\n",
       "      <td>SCEL</td>\n",
       "      <td>KMIA</td>\n",
       "      <td>AAL</td>\n",
       "      <td>2017-01-01 23:33:00</td>\n",
       "      <td>226</td>\n",
       "      <td>SCEL</td>\n",
       "      <td>KMIA</td>\n",
       "      <td>AAL</td>\n",
       "      <td>...</td>\n",
       "      <td>2017</td>\n",
       "      <td>Domingo</td>\n",
       "      <td>I</td>\n",
       "      <td>American Airlines</td>\n",
       "      <td>Santiago</td>\n",
       "      <td>Miami</td>\n",
       "      <td>3.0</td>\n",
       "      <td>0</td>\n",
       "      <td>1</td>\n",
       "      <td>noche</td>\n",
       "    </tr>\n",
       "    <tr>\n",
       "      <th>1</th>\n",
       "      <td>2017-01-02 23:30:00</td>\n",
       "      <td>226</td>\n",
       "      <td>SCEL</td>\n",
       "      <td>KMIA</td>\n",
       "      <td>AAL</td>\n",
       "      <td>2017-01-02 23:39:00</td>\n",
       "      <td>226</td>\n",
       "      <td>SCEL</td>\n",
       "      <td>KMIA</td>\n",
       "      <td>AAL</td>\n",
       "      <td>...</td>\n",
       "      <td>2017</td>\n",
       "      <td>Lunes</td>\n",
       "      <td>I</td>\n",
       "      <td>American Airlines</td>\n",
       "      <td>Santiago</td>\n",
       "      <td>Miami</td>\n",
       "      <td>9.0</td>\n",
       "      <td>0</td>\n",
       "      <td>1</td>\n",
       "      <td>noche</td>\n",
       "    </tr>\n",
       "    <tr>\n",
       "      <th>2</th>\n",
       "      <td>2017-01-03 23:30:00</td>\n",
       "      <td>226</td>\n",
       "      <td>SCEL</td>\n",
       "      <td>KMIA</td>\n",
       "      <td>AAL</td>\n",
       "      <td>2017-01-03 23:39:00</td>\n",
       "      <td>226</td>\n",
       "      <td>SCEL</td>\n",
       "      <td>KMIA</td>\n",
       "      <td>AAL</td>\n",
       "      <td>...</td>\n",
       "      <td>2017</td>\n",
       "      <td>Martes</td>\n",
       "      <td>I</td>\n",
       "      <td>American Airlines</td>\n",
       "      <td>Santiago</td>\n",
       "      <td>Miami</td>\n",
       "      <td>9.0</td>\n",
       "      <td>0</td>\n",
       "      <td>1</td>\n",
       "      <td>noche</td>\n",
       "    </tr>\n",
       "    <tr>\n",
       "      <th>3</th>\n",
       "      <td>2017-01-04 23:30:00</td>\n",
       "      <td>226</td>\n",
       "      <td>SCEL</td>\n",
       "      <td>KMIA</td>\n",
       "      <td>AAL</td>\n",
       "      <td>2017-01-04 23:33:00</td>\n",
       "      <td>226</td>\n",
       "      <td>SCEL</td>\n",
       "      <td>KMIA</td>\n",
       "      <td>AAL</td>\n",
       "      <td>...</td>\n",
       "      <td>2017</td>\n",
       "      <td>Miercoles</td>\n",
       "      <td>I</td>\n",
       "      <td>American Airlines</td>\n",
       "      <td>Santiago</td>\n",
       "      <td>Miami</td>\n",
       "      <td>3.0</td>\n",
       "      <td>0</td>\n",
       "      <td>1</td>\n",
       "      <td>noche</td>\n",
       "    </tr>\n",
       "    <tr>\n",
       "      <th>4</th>\n",
       "      <td>2017-01-05 23:30:00</td>\n",
       "      <td>226</td>\n",
       "      <td>SCEL</td>\n",
       "      <td>KMIA</td>\n",
       "      <td>AAL</td>\n",
       "      <td>2017-01-05 23:28:00</td>\n",
       "      <td>226</td>\n",
       "      <td>SCEL</td>\n",
       "      <td>KMIA</td>\n",
       "      <td>AAL</td>\n",
       "      <td>...</td>\n",
       "      <td>2017</td>\n",
       "      <td>Jueves</td>\n",
       "      <td>I</td>\n",
       "      <td>American Airlines</td>\n",
       "      <td>Santiago</td>\n",
       "      <td>Miami</td>\n",
       "      <td>0.0</td>\n",
       "      <td>0</td>\n",
       "      <td>1</td>\n",
       "      <td>noche</td>\n",
       "    </tr>\n",
       "  </tbody>\n",
       "</table>\n",
       "<p>5 rows × 22 columns</p>\n",
       "</div>"
      ],
      "text/plain": [
       "              Fecha-I Vlo-I Ori-I Des-I Emp-I             Fecha-O Vlo-O Ori-O  \\\n",
       "0 2017-01-01 23:30:00   226  SCEL  KMIA   AAL 2017-01-01 23:33:00   226  SCEL   \n",
       "1 2017-01-02 23:30:00   226  SCEL  KMIA   AAL 2017-01-02 23:39:00   226  SCEL   \n",
       "2 2017-01-03 23:30:00   226  SCEL  KMIA   AAL 2017-01-03 23:39:00   226  SCEL   \n",
       "3 2017-01-04 23:30:00   226  SCEL  KMIA   AAL 2017-01-04 23:33:00   226  SCEL   \n",
       "4 2017-01-05 23:30:00   226  SCEL  KMIA   AAL 2017-01-05 23:28:00   226  SCEL   \n",
       "\n",
       "  Des-O Emp-O  ...   AÑO     DIANOM  TIPOVUELO              OPERA  SIGLAORI  \\\n",
       "0  KMIA   AAL  ...  2017    Domingo          I  American Airlines  Santiago   \n",
       "1  KMIA   AAL  ...  2017      Lunes          I  American Airlines  Santiago   \n",
       "2  KMIA   AAL  ...  2017     Martes          I  American Airlines  Santiago   \n",
       "3  KMIA   AAL  ...  2017  Miercoles          I  American Airlines  Santiago   \n",
       "4  KMIA   AAL  ...  2017     Jueves          I  American Airlines  Santiago   \n",
       "\n",
       "  SIGLADES dif_min atraso_15  temporada_alta  periodo_dia  \n",
       "0    Miami     3.0         0               1        noche  \n",
       "1    Miami     9.0         0               1        noche  \n",
       "2    Miami     9.0         0               1        noche  \n",
       "3    Miami     3.0         0               1        noche  \n",
       "4    Miami     0.0         0               1        noche  \n",
       "\n",
       "[5 rows x 22 columns]"
      ]
     },
     "execution_count": 23,
     "metadata": {},
     "output_type": "execute_result"
    }
   ],
   "source": [
    "df.head() #cambiar tipo de vuelo a variable numerica"
   ]
  },
  {
   "cell_type": "code",
   "execution_count": 24,
   "id": "07d097bb",
   "metadata": {
    "hidden": true
   },
   "outputs": [],
   "source": [
    "df.to_csv('synthetic_features.csv', index = False)"
   ]
  },
  {
   "cell_type": "markdown",
   "id": "eea13beb",
   "metadata": {
    "hidden": true
   },
   "source": [
    "- Lo que trabajamos aqui fue gnnerar data para despues analizarla y determinar la probabilidad de atrasos"
   ]
  },
  {
   "cell_type": "markdown",
   "id": "ee179378",
   "metadata": {
    "heading_collapsed": true
   },
   "source": [
    "## ¿Cómo se compone la tasa de atraso por destino, aerolínea, mes del año, día de la semana, temporada, tipo de vuelo? ¿Qué variables esperarías que más influyeran en predecir atrasos?\n"
   ]
  },
  {
   "cell_type": "markdown",
   "id": "6a762f6e",
   "metadata": {
    "hidden": true
   },
   "source": [
    "- Aqui realizaremos cada variable que genera atraso en los vuelos\n",
    "- veremos la distribucion general cada una de ellas"
   ]
  },
  {
   "cell_type": "code",
   "execution_count": 25,
   "id": "3713c40c",
   "metadata": {
    "hidden": true,
    "scrolled": true
   },
   "outputs": [
    {
     "data": {
      "text/plain": [
       "0    0.81506\n",
       "1    0.18494\n",
       "Name: atraso_15, dtype: float64"
      ]
     },
     "execution_count": 25,
     "metadata": {},
     "output_type": "execute_result"
    }
   ],
   "source": [
    "# Visualizamos la distribucion de los atrasos\n",
    "df.atraso_15.value_counts(normalize = True)"
   ]
  },
  {
   "cell_type": "markdown",
   "id": "33f3b87a",
   "metadata": {
    "hidden": true
   },
   "source": [
    "- Como podemos ver tenemos un 81.5% de los datos som retrasos, y el 18.5% son de atrasos, por ende nos encontramos con una distribucion de los datos ligeramente desbalanceada"
   ]
  },
  {
   "cell_type": "code",
   "execution_count": 26,
   "id": "1c8aeeef",
   "metadata": {
    "hidden": true
   },
   "outputs": [
    {
     "data": {
      "text/plain": [
       "['American Airlines',\n",
       " 'Air Canada',\n",
       " 'Air France',\n",
       " 'Aeromexico',\n",
       " 'Aerolineas Argentinas',\n",
       " 'Austral',\n",
       " 'Avianca',\n",
       " 'Alitalia',\n",
       " 'British Airways',\n",
       " 'Copa Air',\n",
       " 'Delta Air',\n",
       " 'Gol Trans',\n",
       " 'Iberia',\n",
       " 'K.L.M.',\n",
       " 'Qantas Airways',\n",
       " 'United Airlines',\n",
       " 'Grupo LATAM',\n",
       " 'Sky Airline',\n",
       " 'Latin American Wings',\n",
       " 'Plus Ultra Lineas Aereas',\n",
       " 'JetSmart SPA',\n",
       " 'Oceanair Linhas Aereas',\n",
       " 'Lacsa']"
      ]
     },
     "execution_count": 26,
     "metadata": {},
     "output_type": "execute_result"
    }
   ],
   "source": [
    "# generamos una lista de aerolineas para analizar el retrazo en cada una de ellas\n",
    "\n",
    "aerolineas = []\n",
    "for i in df['OPERA'].unique():\n",
    "    aerolineas.append(i)\n",
    "    \n",
    "aerolineas"
   ]
  },
  {
   "cell_type": "code",
   "execution_count": 27,
   "id": "e4e2c5f4",
   "metadata": {
    "hidden": true
   },
   "outputs": [
    {
     "data": {
      "text/plain": [
       "['Miami',\n",
       " 'Dallas',\n",
       " 'Buenos Aires',\n",
       " 'Toronto',\n",
       " 'Paris',\n",
       " 'Ciudad de Mexico',\n",
       " 'Bogota',\n",
       " 'Roma',\n",
       " 'Londres',\n",
       " 'Ciudad de Panama',\n",
       " 'Atlanta',\n",
       " 'Sao Paulo',\n",
       " 'Rio de Janeiro',\n",
       " 'Florianapolis',\n",
       " 'Madrid',\n",
       " 'Lima',\n",
       " 'Sydney',\n",
       " 'Houston',\n",
       " 'Asuncion',\n",
       " 'Cataratas Iguacu',\n",
       " 'Puerto Montt',\n",
       " 'Punta Arenas',\n",
       " 'Puerto Natales',\n",
       " 'Balmaceda',\n",
       " 'Temuco',\n",
       " 'Valdivia',\n",
       " 'Concepcion',\n",
       " 'La Serena',\n",
       " 'Copiapo',\n",
       " 'Calama',\n",
       " 'Antofagasta',\n",
       " 'Iquique',\n",
       " 'Arica',\n",
       " 'Mendoza',\n",
       " 'Cordoba',\n",
       " 'Montevideo',\n",
       " 'Castro (Chiloe)',\n",
       " 'Osorno',\n",
       " 'Orlando',\n",
       " 'Nueva York',\n",
       " 'Guayaquil',\n",
       " 'Cancun',\n",
       " 'Punta Cana',\n",
       " 'Los Angeles',\n",
       " 'Auckland N.Z.',\n",
       " 'Isla de Pascua',\n",
       " 'La Paz',\n",
       " 'Santa Cruz',\n",
       " 'Curitiba, Bra.',\n",
       " 'Quito',\n",
       " 'Bariloche',\n",
       " 'Rosario',\n",
       " 'Washington',\n",
       " 'Tucuman',\n",
       " 'Melbourne',\n",
       " 'San Juan, Arg.',\n",
       " 'Neuquen',\n",
       " 'Pisco, Peru',\n",
       " 'Ushuia',\n",
       " 'Puerto Stanley',\n",
       " 'Punta del Este',\n",
       " 'Cochabamba']"
      ]
     },
     "execution_count": 27,
     "metadata": {},
     "output_type": "execute_result"
    }
   ],
   "source": [
    "# generamos una lista de lugares o destinos para analizarlos individualmente\n",
    "lugares = []\n",
    "for i in df['SIGLADES'].unique():\n",
    "    lugares.append(i)\n",
    "    \n",
    "lugares"
   ]
  },
  {
   "cell_type": "code",
   "execution_count": 28,
   "id": "a66ca6bc",
   "metadata": {
    "hidden": true,
    "scrolled": true
   },
   "outputs": [
    {
     "data": {
      "text/html": [
       "<div>\n",
       "<style scoped>\n",
       "    .dataframe tbody tr th:only-of-type {\n",
       "        vertical-align: middle;\n",
       "    }\n",
       "\n",
       "    .dataframe tbody tr th {\n",
       "        vertical-align: top;\n",
       "    }\n",
       "\n",
       "    .dataframe thead th {\n",
       "        text-align: right;\n",
       "    }\n",
       "</style>\n",
       "<table border=\"1\" class=\"dataframe\">\n",
       "  <thead>\n",
       "    <tr style=\"text-align: right;\">\n",
       "      <th></th>\n",
       "      <th>sin_atraso_15min</th>\n",
       "      <th>con_atraso_15min</th>\n",
       "    </tr>\n",
       "  </thead>\n",
       "  <tbody>\n",
       "    <tr>\n",
       "      <th>American Airlines</th>\n",
       "      <td>0.932629</td>\n",
       "      <td>0.067371</td>\n",
       "    </tr>\n",
       "    <tr>\n",
       "      <th>Air Canada</th>\n",
       "      <td>0.543363</td>\n",
       "      <td>0.456637</td>\n",
       "    </tr>\n",
       "    <tr>\n",
       "      <th>Air France</th>\n",
       "      <td>0.916201</td>\n",
       "      <td>0.083799</td>\n",
       "    </tr>\n",
       "    <tr>\n",
       "      <th>Aeromexico</th>\n",
       "      <td>0.971510</td>\n",
       "      <td>0.028490</td>\n",
       "    </tr>\n",
       "    <tr>\n",
       "      <th>Aerolineas Argentinas</th>\n",
       "      <td>0.759877</td>\n",
       "      <td>0.240123</td>\n",
       "    </tr>\n",
       "    <tr>\n",
       "      <th>Austral</th>\n",
       "      <td>0.797297</td>\n",
       "      <td>0.202703</td>\n",
       "    </tr>\n",
       "    <tr>\n",
       "      <th>Avianca</th>\n",
       "      <td>0.734375</td>\n",
       "      <td>0.265625</td>\n",
       "    </tr>\n",
       "    <tr>\n",
       "      <th>Alitalia</th>\n",
       "      <td>0.888031</td>\n",
       "      <td>0.111969</td>\n",
       "    </tr>\n",
       "    <tr>\n",
       "      <th>British Airways</th>\n",
       "      <td>0.858537</td>\n",
       "      <td>0.141463</td>\n",
       "    </tr>\n",
       "    <tr>\n",
       "      <th>Copa Air</th>\n",
       "      <td>0.937297</td>\n",
       "      <td>0.062703</td>\n",
       "    </tr>\n",
       "    <tr>\n",
       "      <th>Delta Air</th>\n",
       "      <td>0.941341</td>\n",
       "      <td>0.058659</td>\n",
       "    </tr>\n",
       "    <tr>\n",
       "      <th>Gol Trans</th>\n",
       "      <td>0.643921</td>\n",
       "      <td>0.356079</td>\n",
       "    </tr>\n",
       "    <tr>\n",
       "      <th>Iberia</th>\n",
       "      <td>0.900552</td>\n",
       "      <td>0.099448</td>\n",
       "    </tr>\n",
       "    <tr>\n",
       "      <th>K.L.M.</th>\n",
       "      <td>0.916335</td>\n",
       "      <td>0.083665</td>\n",
       "    </tr>\n",
       "    <tr>\n",
       "      <th>Qantas Airways</th>\n",
       "      <td>0.579487</td>\n",
       "      <td>0.420513</td>\n",
       "    </tr>\n",
       "    <tr>\n",
       "      <th>United Airlines</th>\n",
       "      <td>0.949254</td>\n",
       "      <td>0.050746</td>\n",
       "    </tr>\n",
       "    <tr>\n",
       "      <th>Grupo LATAM</th>\n",
       "      <td>0.821334</td>\n",
       "      <td>0.178666</td>\n",
       "    </tr>\n",
       "    <tr>\n",
       "      <th>Sky Airline</th>\n",
       "      <td>0.822353</td>\n",
       "      <td>0.177647</td>\n",
       "    </tr>\n",
       "    <tr>\n",
       "      <th>Latin American Wings</th>\n",
       "      <td>0.593190</td>\n",
       "      <td>0.406810</td>\n",
       "    </tr>\n",
       "    <tr>\n",
       "      <th>Plus Ultra Lineas Aereas</th>\n",
       "      <td>0.612245</td>\n",
       "      <td>0.387755</td>\n",
       "    </tr>\n",
       "    <tr>\n",
       "      <th>JetSmart SPA</th>\n",
       "      <td>0.821005</td>\n",
       "      <td>0.178995</td>\n",
       "    </tr>\n",
       "    <tr>\n",
       "      <th>Oceanair Linhas Aereas</th>\n",
       "      <td>0.845878</td>\n",
       "      <td>0.154122</td>\n",
       "    </tr>\n",
       "    <tr>\n",
       "      <th>Lacsa</th>\n",
       "      <td>0.880435</td>\n",
       "      <td>0.119565</td>\n",
       "    </tr>\n",
       "  </tbody>\n",
       "</table>\n",
       "</div>"
      ],
      "text/plain": [
       "                          sin_atraso_15min  con_atraso_15min\n",
       "American Airlines                 0.932629          0.067371\n",
       "Air Canada                        0.543363          0.456637\n",
       "Air France                        0.916201          0.083799\n",
       "Aeromexico                        0.971510          0.028490\n",
       "Aerolineas Argentinas             0.759877          0.240123\n",
       "Austral                           0.797297          0.202703\n",
       "Avianca                           0.734375          0.265625\n",
       "Alitalia                          0.888031          0.111969\n",
       "British Airways                   0.858537          0.141463\n",
       "Copa Air                          0.937297          0.062703\n",
       "Delta Air                         0.941341          0.058659\n",
       "Gol Trans                         0.643921          0.356079\n",
       "Iberia                            0.900552          0.099448\n",
       "K.L.M.                            0.916335          0.083665\n",
       "Qantas Airways                    0.579487          0.420513\n",
       "United Airlines                   0.949254          0.050746\n",
       "Grupo LATAM                       0.821334          0.178666\n",
       "Sky Airline                       0.822353          0.177647\n",
       "Latin American Wings              0.593190          0.406810\n",
       "Plus Ultra Lineas Aereas          0.612245          0.387755\n",
       "JetSmart SPA                      0.821005          0.178995\n",
       "Oceanair Linhas Aereas            0.845878          0.154122\n",
       "Lacsa                             0.880435          0.119565"
      ]
     },
     "execution_count": 28,
     "metadata": {},
     "output_type": "execute_result"
    }
   ],
   "source": [
    "a = []\n",
    "for i in aerolineas:\n",
    "    aero = df[df['OPERA'] == i]\n",
    "    \n",
    "    a.append(list(aero.atraso_15.value_counts(normalize = True)))\n",
    "    \n",
    "a_dict = {key: value for key, value in zip(aerolineas, a)}\n",
    "df_a=pd.DataFrame.from_dict(a_dict, orient='index', columns = ['sin_atraso_15min', 'con_atraso_15min'])\n",
    "df_a"
   ]
  },
  {
   "cell_type": "code",
   "execution_count": 29,
   "id": "7b8a899c",
   "metadata": {
    "hidden": true
   },
   "outputs": [
    {
     "data": {
      "image/png": "[encoded data removed]",
      "text/plain": [
       "<Figure size 936x504 with 1 Axes>"
      ]
     },
     "metadata": {
      "needs_background": "light"
     },
     "output_type": "display_data"
    }
   ],
   "source": [
    "fig, ax = plt.subplots(figsize = (13, 7))\n",
    "ax.bar(df_a.index,df_a['sin_atraso_15min'], label = 'sin atraso')\n",
    "ax.bar(df_a.index, df_a['con_atraso_15min'], bottom = df_a['sin_atraso_15min'], label = 'con atraso')\n",
    "ax.set_xticklabels(df_a.index, rotation = 90)\n",
    "ax.axhline(y = 0.9, color = 'r', linestyle = '-')\n",
    "ax.legend()\n",
    "plt.show()"
   ]
  },
  {
   "cell_type": "markdown",
   "id": "abe19258",
   "metadata": {
    "hidden": true
   },
   "source": [
    "**AERLOINEAS A DESCARTAR**\n",
    "\n",
    "Porque tuvieron mas del 90% de los vuelos sin atrasos\n",
    "\n",
    "- American Airlines\n",
    "- Air France\n",
    "- Aeromexico\n",
    "- Copa AIr\n",
    "- Delta Air\n",
    "- Iberia\n",
    "- K.L.M.\n",
    "- United Airlines\n"
   ]
  },
  {
   "cell_type": "code",
   "execution_count": 30,
   "id": "558cec16",
   "metadata": {
    "hidden": true,
    "scrolled": true
   },
   "outputs": [
    {
     "data": {
      "text/html": [
       "<div>\n",
       "<style scoped>\n",
       "    .dataframe tbody tr th:only-of-type {\n",
       "        vertical-align: middle;\n",
       "    }\n",
       "\n",
       "    .dataframe tbody tr th {\n",
       "        vertical-align: top;\n",
       "    }\n",
       "\n",
       "    .dataframe thead th {\n",
       "        text-align: right;\n",
       "    }\n",
       "</style>\n",
       "<table border=\"1\" class=\"dataframe\">\n",
       "  <thead>\n",
       "    <tr style=\"text-align: right;\">\n",
       "      <th></th>\n",
       "      <th>sin_atraso_15min</th>\n",
       "      <th>con_atraso_15min</th>\n",
       "    </tr>\n",
       "  </thead>\n",
       "  <tbody>\n",
       "    <tr>\n",
       "      <th>Miami</th>\n",
       "      <td>0.809055</td>\n",
       "      <td>0.190945</td>\n",
       "    </tr>\n",
       "    <tr>\n",
       "      <th>Dallas</th>\n",
       "      <td>0.929972</td>\n",
       "      <td>0.070028</td>\n",
       "    </tr>\n",
       "    <tr>\n",
       "      <th>Buenos Aires</th>\n",
       "      <td>0.744278</td>\n",
       "      <td>0.255722</td>\n",
       "    </tr>\n",
       "    <tr>\n",
       "      <th>Toronto</th>\n",
       "      <td>0.685512</td>\n",
       "      <td>0.314488</td>\n",
       "    </tr>\n",
       "    <tr>\n",
       "      <th>Paris</th>\n",
       "      <td>0.913649</td>\n",
       "      <td>0.086351</td>\n",
       "    </tr>\n",
       "  </tbody>\n",
       "</table>\n",
       "</div>"
      ],
      "text/plain": [
       "              sin_atraso_15min  con_atraso_15min\n",
       "Miami                 0.809055          0.190945\n",
       "Dallas                0.929972          0.070028\n",
       "Buenos Aires          0.744278          0.255722\n",
       "Toronto               0.685512          0.314488\n",
       "Paris                 0.913649          0.086351"
      ]
     },
     "execution_count": 30,
     "metadata": {},
     "output_type": "execute_result"
    }
   ],
   "source": [
    "l=[]\n",
    "for i in lugares:\n",
    "    lug = df[df['SIGLADES'] == i]\n",
    "    l.append(list(lug.atraso_15.value_counts(normalize = True)))\n",
    "l_dict = {key: value for key, value in zip(lugares, l)}\n",
    "df_l=pd.DataFrame.from_dict(l_dict, orient='index', columns = ['sin_atraso_15min', 'con_atraso_15min'])\n",
    "df_l.head()    "
   ]
  },
  {
   "cell_type": "code",
   "execution_count": 31,
   "id": "696629e4",
   "metadata": {
    "hidden": true
   },
   "outputs": [
    {
     "data": {
      "image/png": "[encoded data removed]",
      "text/plain": [
       "<Figure size 1080x504 with 1 Axes>"
      ]
     },
     "metadata": {
      "needs_background": "light"
     },
     "output_type": "display_data"
    }
   ],
   "source": [
    "fig, ax = plt.subplots(figsize = (15, 7))\n",
    "ax.bar(df_l.index,df_l['sin_atraso_15min'], label = 'sin atraso')\n",
    "ax.bar(df_l.index, df_l['con_atraso_15min'], bottom = df_l['sin_atraso_15min'], label = 'con atraso')\n",
    "ax.set_xticklabels(df_l.index, rotation = 90)\n",
    "ax.axhline(y = 0.9, color = 'r', linestyle = '-')\n",
    "ax.legend()\n",
    "plt.show()"
   ]
  },
  {
   "cell_type": "markdown",
   "id": "e21fab52",
   "metadata": {
    "hidden": true
   },
   "source": [
    "**CIUDADES A DESCARTAR**\n",
    "\n",
    "Por que tuvieron mas de un 90% de vuelso sin atrasos, tambien se descarto que tuvieran 1 o dos vuelos\n",
    "\n",
    "- Dallas\n",
    "- Paris\n",
    "- Ciudad de Mexico\n",
    "- Ciudad de Panama\n",
    "- Atlanta\n",
    "- Houston\n",
    "- Cataratas Iguacu\n",
    "- Puerto Natales\n",
    "- Castro (Chiloe)\n",
    "- Curitiba, Bra.\n",
    "- Quito\n",
    "- Bariloche (por tener solamente dos vuelos y da un 50%)\n",
    "- Washington\n",
    "- Pisco, Peru\n",
    "- Puerto Stanley\n",
    "- Cochabamba\n",
    "- "
   ]
  },
  {
   "cell_type": "code",
   "execution_count": 32,
   "id": "0e31db9e",
   "metadata": {
    "hidden": true
   },
   "outputs": [
    {
     "data": {
      "text/html": [
       "<div>\n",
       "<style scoped>\n",
       "    .dataframe tbody tr th:only-of-type {\n",
       "        vertical-align: middle;\n",
       "    }\n",
       "\n",
       "    .dataframe tbody tr th {\n",
       "        vertical-align: top;\n",
       "    }\n",
       "\n",
       "    .dataframe thead th {\n",
       "        text-align: right;\n",
       "    }\n",
       "</style>\n",
       "<table border=\"1\" class=\"dataframe\">\n",
       "  <thead>\n",
       "    <tr style=\"text-align: right;\">\n",
       "      <th></th>\n",
       "      <th>sin_atraso_15min</th>\n",
       "      <th>con_atraso_15min</th>\n",
       "    </tr>\n",
       "  </thead>\n",
       "  <tbody>\n",
       "    <tr>\n",
       "      <th>1</th>\n",
       "      <td>0.839882</td>\n",
       "      <td>0.160118</td>\n",
       "    </tr>\n",
       "    <tr>\n",
       "      <th>2</th>\n",
       "      <td>0.848409</td>\n",
       "      <td>0.151591</td>\n",
       "    </tr>\n",
       "    <tr>\n",
       "      <th>3</th>\n",
       "      <td>0.884896</td>\n",
       "      <td>0.115104</td>\n",
       "    </tr>\n",
       "    <tr>\n",
       "      <th>4</th>\n",
       "      <td>0.883466</td>\n",
       "      <td>0.116534</td>\n",
       "    </tr>\n",
       "    <tr>\n",
       "      <th>5</th>\n",
       "      <td>0.842176</td>\n",
       "      <td>0.157824</td>\n",
       "    </tr>\n",
       "  </tbody>\n",
       "</table>\n",
       "</div>"
      ],
      "text/plain": [
       "   sin_atraso_15min  con_atraso_15min\n",
       "1          0.839882          0.160118\n",
       "2          0.848409          0.151591\n",
       "3          0.884896          0.115104\n",
       "4          0.883466          0.116534\n",
       "5          0.842176          0.157824"
      ]
     },
     "execution_count": 32,
     "metadata": {},
     "output_type": "execute_result"
    }
   ],
   "source": [
    "meses = [ 1,  2,  3,  4,  5,  6,  7,  8,  9, 10, 11, 12]    \n",
    "m=[]\n",
    "for i in meses:\n",
    "    mes = df[df['MES'] == i]\n",
    "    m.append(list(mes.atraso_15.value_counts(normalize = True)))\n",
    "m_dict = {key: value for key, value in zip(meses, m)}\n",
    "df_m=pd.DataFrame.from_dict(m_dict, orient='index', columns = ['sin_atraso_15min', 'con_atraso_15min'])\n",
    "df_m.head()    "
   ]
  },
  {
   "cell_type": "code",
   "execution_count": 33,
   "id": "6ea6d835",
   "metadata": {
    "hidden": true
   },
   "outputs": [
    {
     "data": {
      "image/png": "[encoded data removed]",
      "text/plain": [
       "<Figure size 1080x504 with 1 Axes>"
      ]
     },
     "metadata": {
      "needs_background": "light"
     },
     "output_type": "display_data"
    }
   ],
   "source": [
    "fig, ax = plt.subplots(figsize = (15, 7))\n",
    "ax.bar(df_m.index,df_m['sin_atraso_15min'], label = 'sin atraso')\n",
    "ax.bar(df_m.index, df_m['con_atraso_15min'], bottom = df_m['sin_atraso_15min'], label = 'con atraso')\n",
    "#ax.set_xticklabels(df_m.index, rotation = 90)\n",
    "ax.axhline(y = 0.9, color = 'r', linestyle = '-')\n",
    "ax.legend()\n",
    "plt.show()\n",
    "    "
   ]
  },
  {
   "cell_type": "markdown",
   "id": "6d1fa8cb",
   "metadata": {
    "hidden": true
   },
   "source": [
    "No descartamos ningun mes debido a que  hubo retrasos considerables, los unicos meses cercanos al 90% son los meses de **Abril y Marzo**"
   ]
  },
  {
   "cell_type": "code",
   "execution_count": 34,
   "id": "880ef992",
   "metadata": {
    "hidden": true
   },
   "outputs": [
    {
     "data": {
      "text/html": [
       "<div>\n",
       "<style scoped>\n",
       "    .dataframe tbody tr th:only-of-type {\n",
       "        vertical-align: middle;\n",
       "    }\n",
       "\n",
       "    .dataframe tbody tr th {\n",
       "        vertical-align: top;\n",
       "    }\n",
       "\n",
       "    .dataframe thead th {\n",
       "        text-align: right;\n",
       "    }\n",
       "</style>\n",
       "<table border=\"1\" class=\"dataframe\">\n",
       "  <thead>\n",
       "    <tr style=\"text-align: right;\">\n",
       "      <th></th>\n",
       "      <th>sin_atraso_15min</th>\n",
       "      <th>con_atraso_15min</th>\n",
       "    </tr>\n",
       "  </thead>\n",
       "  <tbody>\n",
       "    <tr>\n",
       "      <th>1</th>\n",
       "      <td>0.851449</td>\n",
       "      <td>0.148551</td>\n",
       "    </tr>\n",
       "    <tr>\n",
       "      <th>2</th>\n",
       "      <td>0.841655</td>\n",
       "      <td>0.158345</td>\n",
       "    </tr>\n",
       "    <tr>\n",
       "      <th>3</th>\n",
       "      <td>0.823866</td>\n",
       "      <td>0.176134</td>\n",
       "    </tr>\n",
       "    <tr>\n",
       "      <th>4</th>\n",
       "      <td>0.810384</td>\n",
       "      <td>0.189616</td>\n",
       "    </tr>\n",
       "    <tr>\n",
       "      <th>5</th>\n",
       "      <td>0.825524</td>\n",
       "      <td>0.174476</td>\n",
       "    </tr>\n",
       "  </tbody>\n",
       "</table>\n",
       "</div>"
      ],
      "text/plain": [
       "   sin_atraso_15min  con_atraso_15min\n",
       "1          0.851449          0.148551\n",
       "2          0.841655          0.158345\n",
       "3          0.823866          0.176134\n",
       "4          0.810384          0.189616\n",
       "5          0.825524          0.174476"
      ]
     },
     "execution_count": 34,
     "metadata": {},
     "output_type": "execute_result"
    }
   ],
   "source": [
    "dias = [ 1,  2,  3,  4,  5,  7,  8, 10, 12, 14, 16, 18, 21, 23, 25, 28, 30,\n",
    "        6,  9, 11, 13, 15, 17, 19, 22, 24, 26, 27, 29, 31, 20]\n",
    "dias.sort()\n",
    "d =[]\n",
    "for i in dias:\n",
    "    dia = df[df['DIA'] == i]\n",
    "    d.append(list(dia.atraso_15.value_counts(normalize = True)))\n",
    "d_dict = {key: value for key, value in zip(dias, d)}\n",
    "df_d=pd.DataFrame.from_dict(d_dict, orient='index', columns = ['sin_atraso_15min', 'con_atraso_15min'])\n",
    "df_d.head() "
   ]
  },
  {
   "cell_type": "code",
   "execution_count": 35,
   "id": "abaaae8b",
   "metadata": {
    "hidden": true
   },
   "outputs": [
    {
     "data": {
      "image/png": "[encoded data removed]",
      "text/plain": [
       "<Figure size 1080x504 with 1 Axes>"
      ]
     },
     "metadata": {
      "needs_background": "light"
     },
     "output_type": "display_data"
    }
   ],
   "source": [
    "fig, ax = plt.subplots(figsize = (15, 7))\n",
    "ax.bar(df_d.index,df_d['sin_atraso_15min'], label = 'sin atraso')\n",
    "ax.bar(df_d.index, df_d['con_atraso_15min'], bottom = df_d['sin_atraso_15min'], label = 'con atraso')\n",
    "#ax.set_xticklabels(df_d.index, rotation = 90)\n",
    "ax.axhline(y = 0.9, color = 'r', linestyle = '-')\n",
    "ax.legend()\n",
    "plt.show()"
   ]
  },
  {
   "cell_type": "code",
   "execution_count": null,
   "id": "baf4127d",
   "metadata": {
    "hidden": true
   },
   "outputs": [],
   "source": []
  },
  {
   "cell_type": "markdown",
   "id": "109f8f8f",
   "metadata": {
    "hidden": true
   },
   "source": [
    "No se descartara ningun dia, ya que todos estuvieron por debajo del 90%"
   ]
  },
  {
   "cell_type": "code",
   "execution_count": 36,
   "id": "f2d97cfe",
   "metadata": {
    "hidden": true
   },
   "outputs": [
    {
     "data": {
      "text/html": [
       "<div>\n",
       "<style scoped>\n",
       "    .dataframe tbody tr th:only-of-type {\n",
       "        vertical-align: middle;\n",
       "    }\n",
       "\n",
       "    .dataframe tbody tr th {\n",
       "        vertical-align: top;\n",
       "    }\n",
       "\n",
       "    .dataframe thead th {\n",
       "        text-align: right;\n",
       "    }\n",
       "</style>\n",
       "<table border=\"1\" class=\"dataframe\">\n",
       "  <thead>\n",
       "    <tr style=\"text-align: right;\">\n",
       "      <th></th>\n",
       "      <th>sin_atraso_15min</th>\n",
       "      <th>con_atraso_15min</th>\n",
       "    </tr>\n",
       "  </thead>\n",
       "  <tbody>\n",
       "    <tr>\n",
       "      <th>1</th>\n",
       "      <td>0.80362</td>\n",
       "      <td>0.19638</td>\n",
       "    </tr>\n",
       "    <tr>\n",
       "      <th>0</th>\n",
       "      <td>0.82079</td>\n",
       "      <td>0.17921</td>\n",
       "    </tr>\n",
       "  </tbody>\n",
       "</table>\n",
       "</div>"
      ],
      "text/plain": [
       "   sin_atraso_15min  con_atraso_15min\n",
       "1           0.80362           0.19638\n",
       "0           0.82079           0.17921"
      ]
     },
     "execution_count": 36,
     "metadata": {},
     "output_type": "execute_result"
    }
   ],
   "source": [
    "temporadas = [1, 0]\n",
    "t=[]\n",
    "for i in temporadas:\n",
    "    temp = df[df['temporada_alta'] == i]\n",
    "    t.append(list(temp.atraso_15.value_counts(normalize = True)))\n",
    "t_dict = {key: value for key, value in zip(temporadas, t)}\n",
    "df_t=pd.DataFrame.from_dict(t_dict, orient='index', columns = ['sin_atraso_15min', 'con_atraso_15min'])\n",
    "df_t.head() "
   ]
  },
  {
   "cell_type": "code",
   "execution_count": 37,
   "id": "c427cbd1",
   "metadata": {
    "hidden": true
   },
   "outputs": [
    {
     "data": {
      "image/png": "[encoded data removed]",
      "text/plain": [
       "<Figure size 720x360 with 1 Axes>"
      ]
     },
     "metadata": {
      "needs_background": "light"
     },
     "output_type": "display_data"
    }
   ],
   "source": [
    "fig, ax = plt.subplots(figsize = (10, 5))\n",
    "ax.bar(df_t.index,df_t['sin_atraso_15min'], label = 'sin atraso')\n",
    "ax.bar(df_t.index, df_t['con_atraso_15min'], bottom = df_t['sin_atraso_15min'], label = 'con atraso')\n",
    "ax.set_xticklabels(df_t.index)\n",
    "ax.axhline(y = 0.9, color = 'r', linestyle = '-')\n",
    "ax.legend()\n",
    "plt.show()"
   ]
  },
  {
   "cell_type": "code",
   "execution_count": 38,
   "id": "eb3f161f",
   "metadata": {
    "hidden": true
   },
   "outputs": [
    {
     "data": {
      "text/plain": [
       "array(['noche', 'tarde', 'mañana'], dtype=object)"
      ]
     },
     "execution_count": 38,
     "metadata": {},
     "output_type": "execute_result"
    }
   ],
   "source": [
    "df['periodo_dia'].unique()"
   ]
  },
  {
   "cell_type": "code",
   "execution_count": 39,
   "id": "04177e31",
   "metadata": {
    "hidden": true
   },
   "outputs": [
    {
     "data": {
      "text/html": [
       "<div>\n",
       "<style scoped>\n",
       "    .dataframe tbody tr th:only-of-type {\n",
       "        vertical-align: middle;\n",
       "    }\n",
       "\n",
       "    .dataframe tbody tr th {\n",
       "        vertical-align: top;\n",
       "    }\n",
       "\n",
       "    .dataframe thead th {\n",
       "        text-align: right;\n",
       "    }\n",
       "</style>\n",
       "<table border=\"1\" class=\"dataframe\">\n",
       "  <thead>\n",
       "    <tr style=\"text-align: right;\">\n",
       "      <th></th>\n",
       "      <th>sin_atraso_15min</th>\n",
       "      <th>con_atraso_15min</th>\n",
       "    </tr>\n",
       "  </thead>\n",
       "  <tbody>\n",
       "    <tr>\n",
       "      <th>noche</th>\n",
       "      <td>0.799977</td>\n",
       "      <td>0.200023</td>\n",
       "    </tr>\n",
       "    <tr>\n",
       "      <th>tarde</th>\n",
       "      <td>0.800596</td>\n",
       "      <td>0.199404</td>\n",
       "    </tr>\n",
       "    <tr>\n",
       "      <th>mañana</th>\n",
       "      <td>0.839934</td>\n",
       "      <td>0.160066</td>\n",
       "    </tr>\n",
       "  </tbody>\n",
       "</table>\n",
       "</div>"
      ],
      "text/plain": [
       "        sin_atraso_15min  con_atraso_15min\n",
       "noche           0.799977          0.200023\n",
       "tarde           0.800596          0.199404\n",
       "mañana          0.839934          0.160066"
      ]
     },
     "execution_count": 39,
     "metadata": {},
     "output_type": "execute_result"
    }
   ],
   "source": [
    "franjas_horarias = ['noche', 'tarde', 'mañana']\n",
    "f = []\n",
    "for i in franjas_horarias:\n",
    "    per = df[df['periodo_dia'] == i]\n",
    "    f.append(list(per.atraso_15.value_counts(normalize = True)))\n",
    "f_dict = {key: value for key, value in zip(franjas_horarias, f)}\n",
    "df_f=pd.DataFrame.from_dict(f_dict, orient='index', columns = ['sin_atraso_15min', 'con_atraso_15min'])\n",
    "df_f.head() "
   ]
  },
  {
   "cell_type": "code",
   "execution_count": 40,
   "id": "ec2c8799",
   "metadata": {
    "hidden": true
   },
   "outputs": [
    {
     "data": {
      "image/png": "[encoded data removed]",
      "text/plain": [
       "<Figure size 720x360 with 1 Axes>"
      ]
     },
     "metadata": {
      "needs_background": "light"
     },
     "output_type": "display_data"
    }
   ],
   "source": [
    "fig, ax = plt.subplots(figsize = (10, 5))\n",
    "ax.bar(df_f.index,df_f['sin_atraso_15min'], label = 'sin atraso')\n",
    "ax.bar(df_f.index, df_f['con_atraso_15min'], bottom = df_f['sin_atraso_15min'], label = 'con atraso')\n",
    "ax.set_xticklabels(df_f.index, rotation = 45)\n",
    "ax.axhline(y = 0.9, color = 'r', linestyle = '-')\n",
    "ax.legend()\n",
    "plt.show()"
   ]
  },
  {
   "cell_type": "markdown",
   "id": "6c448e63",
   "metadata": {
    "hidden": true
   },
   "source": [
    "No descartamos ninguna franja horaria, practicamente entre la mañana y la tarde tenemps la misma distribucion de vuelos, pero tenemos un 3% de atrasos. A la noche se tiene menos vuelos pero el atraso es casi similar con la tarde. Seria un parametro a estudiar la franja nocturna"
   ]
  },
  {
   "cell_type": "code",
   "execution_count": 41,
   "id": "242f78ae",
   "metadata": {
    "hidden": true
   },
   "outputs": [
    {
     "data": {
      "text/html": [
       "<div>\n",
       "<style scoped>\n",
       "    .dataframe tbody tr th:only-of-type {\n",
       "        vertical-align: middle;\n",
       "    }\n",
       "\n",
       "    .dataframe tbody tr th {\n",
       "        vertical-align: top;\n",
       "    }\n",
       "\n",
       "    .dataframe thead th {\n",
       "        text-align: right;\n",
       "    }\n",
       "</style>\n",
       "<table border=\"1\" class=\"dataframe\">\n",
       "  <thead>\n",
       "    <tr style=\"text-align: right;\">\n",
       "      <th></th>\n",
       "      <th>sin_atraso_15min</th>\n",
       "      <th>con_atraso_15min</th>\n",
       "    </tr>\n",
       "  </thead>\n",
       "  <tbody>\n",
       "    <tr>\n",
       "      <th>I</th>\n",
       "      <td>0.774392</td>\n",
       "      <td>0.225608</td>\n",
       "    </tr>\n",
       "    <tr>\n",
       "      <th>N</th>\n",
       "      <td>0.849429</td>\n",
       "      <td>0.150571</td>\n",
       "    </tr>\n",
       "  </tbody>\n",
       "</table>\n",
       "</div>"
      ],
      "text/plain": [
       "   sin_atraso_15min  con_atraso_15min\n",
       "I          0.774392          0.225608\n",
       "N          0.849429          0.150571"
      ]
     },
     "execution_count": 41,
     "metadata": {},
     "output_type": "execute_result"
    }
   ],
   "source": [
    "#df['TIPOVUELO'].unique()\n",
    "clase = ['I', 'N']\n",
    "c = []\n",
    "for i in clase:\n",
    "    tipovue = df[df['TIPOVUELO'] == i]\n",
    "    c.append(list(tipovue.atraso_15.value_counts(normalize = True)))\n",
    "c_dict = {key: value for key, value in zip(clase, c)}\n",
    "df_c=pd.DataFrame.from_dict(c_dict, orient='index', columns = ['sin_atraso_15min', 'con_atraso_15min'])\n",
    "df_c.head() \n"
   ]
  },
  {
   "cell_type": "code",
   "execution_count": 42,
   "id": "e35f3969",
   "metadata": {
    "hidden": true
   },
   "outputs": [
    {
     "data": {
      "image/png": "[encoded data removed]",
      "text/plain": [
       "<Figure size 720x360 with 1 Axes>"
      ]
     },
     "metadata": {
      "needs_background": "light"
     },
     "output_type": "display_data"
    }
   ],
   "source": [
    "fig, ax = plt.subplots(figsize = (10, 5))\n",
    "ax.bar(df_c.index,df_c['sin_atraso_15min'], label = 'sin atraso')\n",
    "ax.bar(df_c.index, df_c['con_atraso_15min'], bottom = df_c['sin_atraso_15min'], label = 'con atraso')\n",
    "ax.set_xticklabels(df_c.index)\n",
    "ax.axhline(y = 0.9, color = 'r', linestyle = '-')\n",
    "ax.legend()\n",
    "plt.show()"
   ]
  },
  {
   "cell_type": "markdown",
   "id": "3f4b1203",
   "metadata": {
    "hidden": true
   },
   "source": [
    "La los tipos de vuelos I poseen mas atrasos con los respecto a los N y a su ves poseen menos vuelos"
   ]
  },
  {
   "cell_type": "code",
   "execution_count": 43,
   "id": "de4e4be7",
   "metadata": {
    "hidden": true
   },
   "outputs": [
    {
     "data": {
      "image/png": "[encoded data removed]",
      "text/plain": [
       "<Figure size 432x288 with 2 Axes>"
      ]
     },
     "metadata": {
      "needs_background": "light"
     },
     "output_type": "display_data"
    }
   ],
   "source": [
    "sns.heatmap(df.corr(), cmap='coolwarm',vmin=-1, vmax=1);"
   ]
  },
  {
   "cell_type": "markdown",
   "id": "c0603946",
   "metadata": {
    "heading_collapsed": true,
    "hidden": true
   },
   "source": [
    "### Consideraciones con respecto al analisis de los datos influyentes\n",
    "\n",
    "- Se analizara toda variable que tenga por debajo de 90% de no atrasos\n",
    "- se analizo que algunos destinos y algunas aerolineas, practicamente no poseen retrasos. Por ende en los siguientes analisis se las descartara para calculos los retrasos. \n",
    "- los meses o dias de la semana se los tomara a todos en cuenta, \n",
    "- lo que es el tipo de clase hay mas atrasos en los internacionales. \n",
    "- En las franjas horarias hay mas retraso en las tardes y noche\n",
    "- Se tomara en cuenta las temporadas, si bien son casi parecidas, hay el doble de vuelos en temporada baja que alta y hay una diferencia de 2% de retraso"
   ]
  },
  {
   "cell_type": "markdown",
   "id": "b4e62406",
   "metadata": {
    "heading_collapsed": true
   },
   "source": [
    "## Entrena uno o varios modelos (usando el/los algoritmo(s) que prefieras) para estimar la probabilidad de atraso de un vuelo. Siéntete libre de generar variables adicionales y/o complementar con variables externas."
   ]
  },
  {
   "cell_type": "markdown",
   "id": "430268a2",
   "metadata": {
    "hidden": true
   },
   "source": [
    "- Primero trabajaremos con todo el data set, sin desestimar ninguna variable\n",
    "- Aqui realizo un pipeline (me sirve para gestionar flujos de trabajo de machine learning) para normalizar las variables numericas\n",
    "- Tambien para caracterizar numericamente las variables categoricas\n",
    "- Es un pipeline de preprocesamiento, en el cual, para las variables numericas usamos **SimpleImputer**(para sustituir valores nulos segun el tipo de estrategia) y **MinMaxScaler**(Eficiente, independientemente de la distribución y no reduce el efecto de los outliers) y paras las categoricas usamos **SimpleImputer** y **OneHotEncoder**(Que nos sirve para \n",
    "crear una columna binaria para cada categoría posible)"
   ]
  },
  {
   "cell_type": "code",
   "execution_count": 44,
   "id": "f322536e",
   "metadata": {
    "hidden": true
   },
   "outputs": [],
   "source": [
    "# Separo variables de X, y\n",
    "X = df.drop(columns=['Fecha-I','Vlo-I','Ori-I','Des-I','Emp-I','Vlo-O','Ori-O','Des-O','Emp-O', 'Fecha-O','atraso_15'])\n",
    "y = df.atraso_15"
   ]
  },
  {
   "cell_type": "markdown",
   "id": "ef439c94",
   "metadata": {
    "hidden": true
   },
   "source": [
    "Descarte las variables 'Fecha-I','Vlo-I','Ori-I','Des-I','Emp-I','Vlo-O','Ori-O','Des-O','Emp-O', 'Fecha-O', por  que ya tenia clasificaod los dias y horaios y meses. Y los codigo de vuelo y destino no influenciarian por que ya poseia la ciudad de destino. Codigo de origen tambien por una cuestion de que todos salian de santiago de chile"
   ]
  },
  {
   "cell_type": "code",
   "execution_count": 45,
   "id": "826b207d",
   "metadata": {
    "hidden": true,
    "scrolled": true
   },
   "outputs": [
    {
     "data": {
      "text/plain": [
       "object     6\n",
       "int64      4\n",
       "float64    1\n",
       "dtype: int64"
      ]
     },
     "execution_count": 45,
     "metadata": {},
     "output_type": "execute_result"
    }
   ],
   "source": [
    "# Discrimino la cantidad de variables que tengo\n",
    "X.dtypes.value_counts()"
   ]
  },
  {
   "cell_type": "code",
   "execution_count": 49,
   "id": "9f3947f1",
   "metadata": {
    "hidden": true
   },
   "outputs": [
    {
     "data": {
      "text/html": [
       "<style>#sk-0b1c4c2c-d051-4e16-bebb-f37c3b244071 {color: black;background-color: white;}#sk-0b1c4c2c-d051-4e16-bebb-f37c3b244071 pre{padding: 0;}#sk-0b1c4c2c-d051-4e16-bebb-f37c3b244071 div.sk-toggleable {background-color: white;}#sk-0b1c4c2c-d051-4e16-bebb-f37c3b244071 label.sk-toggleable__label {cursor: pointer;display: block;width: 100%;margin-bottom: 0;padding: 0.3em;box-sizing: border-box;text-align: center;}#sk-0b1c4c2c-d051-4e16-bebb-f37c3b244071 label.sk-toggleable__label-arrow:before {content: \"▸\";float: left;margin-right: 0.25em;color: #696969;}#sk-0b1c4c2c-d051-4e16-bebb-f37c3b244071 label.sk-toggleable__label-arrow:hover:before {color: black;}#sk-0b1c4c2c-d051-4e16-bebb-f37c3b244071 div.sk-estimator:hover label.sk-toggleable__label-arrow:before {color: black;}#sk-0b1c4c2c-d051-4e16-bebb-f37c3b244071 div.sk-toggleable__content {max-height: 0;max-width: 0;overflow: hidden;text-align: left;background-color: #f0f8ff;}#sk-0b1c4c2c-d051-4e16-bebb-f37c3b244071 div.sk-toggleable__content pre {margin: 0.2em;color: black;border-radius: 0.25em;background-color: #f0f8ff;}#sk-0b1c4c2c-d051-4e16-bebb-f37c3b244071 input.sk-toggleable__control:checked~div.sk-toggleable__content {max-height: 200px;max-width: 100%;overflow: auto;}#sk-0b1c4c2c-d051-4e16-bebb-f37c3b244071 input.sk-toggleable__control:checked~label.sk-toggleable__label-arrow:before {content: \"▾\";}#sk-0b1c4c2c-d051-4e16-bebb-f37c3b244071 div.sk-estimator input.sk-toggleable__control:checked~label.sk-toggleable__label {background-color: #d4ebff;}#sk-0b1c4c2c-d051-4e16-bebb-f37c3b244071 div.sk-label input.sk-toggleable__control:checked~label.sk-toggleable__label {background-color: #d4ebff;}#sk-0b1c4c2c-d051-4e16-bebb-f37c3b244071 input.sk-hidden--visually {border: 0;clip: rect(1px 1px 1px 1px);clip: rect(1px, 1px, 1px, 1px);height: 1px;margin: -1px;overflow: hidden;padding: 0;position: absolute;width: 1px;}#sk-0b1c4c2c-d051-4e16-bebb-f37c3b244071 div.sk-estimator {font-family: monospace;background-color: #f0f8ff;border: 1px dotted black;border-radius: 0.25em;box-sizing: border-box;margin-bottom: 0.5em;}#sk-0b1c4c2c-d051-4e16-bebb-f37c3b244071 div.sk-estimator:hover {background-color: #d4ebff;}#sk-0b1c4c2c-d051-4e16-bebb-f37c3b244071 div.sk-parallel-item::after {content: \"\";width: 100%;border-bottom: 1px solid gray;flex-grow: 1;}#sk-0b1c4c2c-d051-4e16-bebb-f37c3b244071 div.sk-label:hover label.sk-toggleable__label {background-color: #d4ebff;}#sk-0b1c4c2c-d051-4e16-bebb-f37c3b244071 div.sk-serial::before {content: \"\";position: absolute;border-left: 1px solid gray;box-sizing: border-box;top: 2em;bottom: 0;left: 50%;}#sk-0b1c4c2c-d051-4e16-bebb-f37c3b244071 div.sk-serial {display: flex;flex-direction: column;align-items: center;background-color: white;padding-right: 0.2em;padding-left: 0.2em;}#sk-0b1c4c2c-d051-4e16-bebb-f37c3b244071 div.sk-item {z-index: 1;}#sk-0b1c4c2c-d051-4e16-bebb-f37c3b244071 div.sk-parallel {display: flex;align-items: stretch;justify-content: center;background-color: white;}#sk-0b1c4c2c-d051-4e16-bebb-f37c3b244071 div.sk-parallel::before {content: \"\";position: absolute;border-left: 1px solid gray;box-sizing: border-box;top: 2em;bottom: 0;left: 50%;}#sk-0b1c4c2c-d051-4e16-bebb-f37c3b244071 div.sk-parallel-item {display: flex;flex-direction: column;position: relative;background-color: white;}#sk-0b1c4c2c-d051-4e16-bebb-f37c3b244071 div.sk-parallel-item:first-child::after {align-self: flex-end;width: 50%;}#sk-0b1c4c2c-d051-4e16-bebb-f37c3b244071 div.sk-parallel-item:last-child::after {align-self: flex-start;width: 50%;}#sk-0b1c4c2c-d051-4e16-bebb-f37c3b244071 div.sk-parallel-item:only-child::after {width: 0;}#sk-0b1c4c2c-d051-4e16-bebb-f37c3b244071 div.sk-dashed-wrapped {border: 1px dashed gray;margin: 0 0.4em 0.5em 0.4em;box-sizing: border-box;padding-bottom: 0.4em;background-color: white;position: relative;}#sk-0b1c4c2c-d051-4e16-bebb-f37c3b244071 div.sk-label label {font-family: monospace;font-weight: bold;background-color: white;display: inline-block;line-height: 1.2em;}#sk-0b1c4c2c-d051-4e16-bebb-f37c3b244071 div.sk-label-container {position: relative;z-index: 2;text-align: center;}#sk-0b1c4c2c-d051-4e16-bebb-f37c3b244071 div.sk-container {/* jupyter's `normalize.less` sets `[hidden] { display: none; }` but bootstrap.min.css set `[hidden] { display: none !important; }` so we also need the `!important` here to be able to override the default hidden behavior on the sphinx rendered scikit-learn.org. See: https://github.com/scikit-learn/scikit-learn/issues/21755 */display: inline-block !important;position: relative;}#sk-0b1c4c2c-d051-4e16-bebb-f37c3b244071 div.sk-text-repr-fallback {display: none;}</style><div id=\"sk-0b1c4c2c-d051-4e16-bebb-f37c3b244071\" class=\"sk-top-container\"><div class=\"sk-text-repr-fallback\"><pre>ColumnTransformer(transformers=[(&#x27;pipeline-1&#x27;,\n",
       "                                 Pipeline(steps=[(&#x27;simpleimputer&#x27;,\n",
       "                                                  SimpleImputer()),\n",
       "                                                 (&#x27;minmaxscaler&#x27;,\n",
       "                                                  MinMaxScaler())]),\n",
       "                                 &lt;sklearn.compose._column_transformer.make_column_selector object at 0x7f251f9e60d0&gt;),\n",
       "                                (&#x27;pipeline-2&#x27;,\n",
       "                                 Pipeline(steps=[(&#x27;simpleimputer&#x27;,\n",
       "                                                  SimpleImputer(strategy=&#x27;most_frequent&#x27;)),\n",
       "                                                 (&#x27;onehotencoder&#x27;,\n",
       "                                                  OneHotEncoder(handle_unknown=&#x27;ignore&#x27;))]),\n",
       "                                 &lt;sklearn.compose._column_transformer.make_column_selector object at 0x7f251f9e6100&gt;)])</pre><b>Please rerun this cell to show the HTML repr or trust the notebook.</b></div><div class=\"sk-container\" hidden><div class=\"sk-item sk-dashed-wrapped\"><div class=\"sk-label-container\"><div class=\"sk-label sk-toggleable\"><input class=\"sk-toggleable__control sk-hidden--visually\" id=\"6811ae67-e340-4e39-b3f8-72752ae92230\" type=\"checkbox\" ><label for=\"6811ae67-e340-4e39-b3f8-72752ae92230\" class=\"sk-toggleable__label sk-toggleable__label-arrow\">ColumnTransformer</label><div class=\"sk-toggleable__content\"><pre>ColumnTransformer(transformers=[(&#x27;pipeline-1&#x27;,\n",
       "                                 Pipeline(steps=[(&#x27;simpleimputer&#x27;,\n",
       "                                                  SimpleImputer()),\n",
       "                                                 (&#x27;minmaxscaler&#x27;,\n",
       "                                                  MinMaxScaler())]),\n",
       "                                 &lt;sklearn.compose._column_transformer.make_column_selector object at 0x7f251f9e60d0&gt;),\n",
       "                                (&#x27;pipeline-2&#x27;,\n",
       "                                 Pipeline(steps=[(&#x27;simpleimputer&#x27;,\n",
       "                                                  SimpleImputer(strategy=&#x27;most_frequent&#x27;)),\n",
       "                                                 (&#x27;onehotencoder&#x27;,\n",
       "                                                  OneHotEncoder(handle_unknown=&#x27;ignore&#x27;))]),\n",
       "                                 &lt;sklearn.compose._column_transformer.make_column_selector object at 0x7f251f9e6100&gt;)])</pre></div></div></div><div class=\"sk-parallel\"><div class=\"sk-parallel-item\"><div class=\"sk-item\"><div class=\"sk-label-container\"><div class=\"sk-label sk-toggleable\"><input class=\"sk-toggleable__control sk-hidden--visually\" id=\"d05fe1b6-0c1c-47a3-beee-f74c4bbaf9e1\" type=\"checkbox\" ><label for=\"d05fe1b6-0c1c-47a3-beee-f74c4bbaf9e1\" class=\"sk-toggleable__label sk-toggleable__label-arrow\">pipeline-1</label><div class=\"sk-toggleable__content\"><pre>&lt;sklearn.compose._column_transformer.make_column_selector object at 0x7f251f9e60d0&gt;</pre></div></div></div><div class=\"sk-serial\"><div class=\"sk-item\"><div class=\"sk-serial\"><div class=\"sk-item\"><div class=\"sk-estimator sk-toggleable\"><input class=\"sk-toggleable__control sk-hidden--visually\" id=\"10dd5896-1f80-4ad7-8726-25fbb043049d\" type=\"checkbox\" ><label for=\"10dd5896-1f80-4ad7-8726-25fbb043049d\" class=\"sk-toggleable__label sk-toggleable__label-arrow\">SimpleImputer</label><div class=\"sk-toggleable__content\"><pre>SimpleImputer()</pre></div></div></div><div class=\"sk-item\"><div class=\"sk-estimator sk-toggleable\"><input class=\"sk-toggleable__control sk-hidden--visually\" id=\"be5218a5-8d9a-4ca4-a8eb-cfa9e2fcbcc7\" type=\"checkbox\" ><label for=\"be5218a5-8d9a-4ca4-a8eb-cfa9e2fcbcc7\" class=\"sk-toggleable__label sk-toggleable__label-arrow\">MinMaxScaler</label><div class=\"sk-toggleable__content\"><pre>MinMaxScaler()</pre></div></div></div></div></div></div></div></div><div class=\"sk-parallel-item\"><div class=\"sk-item\"><div class=\"sk-label-container\"><div class=\"sk-label sk-toggleable\"><input class=\"sk-toggleable__control sk-hidden--visually\" id=\"ae7f3e7f-e695-4a6e-b1b0-d7f5b941e4a1\" type=\"checkbox\" ><label for=\"ae7f3e7f-e695-4a6e-b1b0-d7f5b941e4a1\" class=\"sk-toggleable__label sk-toggleable__label-arrow\">pipeline-2</label><div class=\"sk-toggleable__content\"><pre>&lt;sklearn.compose._column_transformer.make_column_selector object at 0x7f251f9e6100&gt;</pre></div></div></div><div class=\"sk-serial\"><div class=\"sk-item\"><div class=\"sk-serial\"><div class=\"sk-item\"><div class=\"sk-estimator sk-toggleable\"><input class=\"sk-toggleable__control sk-hidden--visually\" id=\"f2393106-e1b3-4fc9-8b46-01278fbb7e5f\" type=\"checkbox\" ><label for=\"f2393106-e1b3-4fc9-8b46-01278fbb7e5f\" class=\"sk-toggleable__label sk-toggleable__label-arrow\">SimpleImputer</label><div class=\"sk-toggleable__content\"><pre>SimpleImputer(strategy=&#x27;most_frequent&#x27;)</pre></div></div></div><div class=\"sk-item\"><div class=\"sk-estimator sk-toggleable\"><input class=\"sk-toggleable__control sk-hidden--visually\" id=\"ac16ba36-60f5-4baa-8824-b3e686602d68\" type=\"checkbox\" ><label for=\"ac16ba36-60f5-4baa-8824-b3e686602d68\" class=\"sk-toggleable__label sk-toggleable__label-arrow\">OneHotEncoder</label><div class=\"sk-toggleable__content\"><pre>OneHotEncoder(handle_unknown=&#x27;ignore&#x27;)</pre></div></div></div></div></div></div></div></div></div></div></div></div>"
      ],
      "text/plain": [
       "ColumnTransformer(transformers=[('pipeline-1',\n",
       "                                 Pipeline(steps=[('simpleimputer',\n",
       "                                                  SimpleImputer()),\n",
       "                                                 ('minmaxscaler',\n",
       "                                                  MinMaxScaler())]),\n",
       "                                 <sklearn.compose._column_transformer.make_column_selector object at 0x7f251f9e60d0>),\n",
       "                                ('pipeline-2',\n",
       "                                 Pipeline(steps=[('simpleimputer',\n",
       "                                                  SimpleImputer(strategy='most_frequent')),\n",
       "                                                 ('onehotencoder',\n",
       "                                                  OneHotEncoder(handle_unknown='ignore'))]),\n",
       "                                 <sklearn.compose._column_transformer.make_column_selector object at 0x7f251f9e6100>)])"
      ]
     },
     "execution_count": 49,
     "metadata": {},
     "output_type": "execute_result"
    }
   ],
   "source": [
    "# variables numericas\n",
    "preproc_numerical_baseline = make_pipeline(\n",
    "    SimpleImputer(),\n",
    "    MinMaxScaler())\n",
    "\n",
    "#varialbles categoricas\n",
    "\n",
    "preproc_categorical_baseline = make_pipeline(\n",
    "    SimpleImputer(strategy=\"most_frequent\"),\n",
    "    OneHotEncoder(handle_unknown=\"ignore\"))\n",
    "\n",
    "#Ingramos todo el pre procesamiento en un pipeline\n",
    "\n",
    "preproc_baseline = make_column_transformer(\n",
    "    (preproc_numerical_baseline, make_column_selector(dtype_include=[\"int64\", \"float64\"])),\n",
    "    (preproc_categorical_baseline, make_column_selector(dtype_include=\"object\")),\n",
    "    remainder=\"drop\")\n",
    "\n",
    "preproc_baseline"
   ]
  },
  {
   "cell_type": "code",
   "execution_count": 50,
   "id": "adc74a5f",
   "metadata": {
    "hidden": true
   },
   "outputs": [
    {
     "data": {
      "text/plain": [
       "(68206, 11)"
      ]
     },
     "execution_count": 50,
     "metadata": {},
     "output_type": "execute_result"
    }
   ],
   "source": [
    "X.shape"
   ]
  },
  {
   "cell_type": "code",
   "execution_count": 51,
   "id": "4ec81044",
   "metadata": {
    "hidden": true
   },
   "outputs": [
    {
     "data": {
      "text/html": [
       "<div>\n",
       "<style scoped>\n",
       "    .dataframe tbody tr th:only-of-type {\n",
       "        vertical-align: middle;\n",
       "    }\n",
       "\n",
       "    .dataframe tbody tr th {\n",
       "        vertical-align: top;\n",
       "    }\n",
       "\n",
       "    .dataframe thead th {\n",
       "        text-align: right;\n",
       "    }\n",
       "</style>\n",
       "<table border=\"1\" class=\"dataframe\">\n",
       "  <thead>\n",
       "    <tr style=\"text-align: right;\">\n",
       "      <th></th>\n",
       "      <th>DIA</th>\n",
       "      <th>MES</th>\n",
       "      <th>AÑO</th>\n",
       "      <th>DIANOM</th>\n",
       "      <th>TIPOVUELO</th>\n",
       "      <th>OPERA</th>\n",
       "      <th>SIGLAORI</th>\n",
       "      <th>SIGLADES</th>\n",
       "      <th>dif_min</th>\n",
       "      <th>temporada_alta</th>\n",
       "      <th>periodo_dia</th>\n",
       "    </tr>\n",
       "  </thead>\n",
       "  <tbody>\n",
       "    <tr>\n",
       "      <th>0</th>\n",
       "      <td>1</td>\n",
       "      <td>1</td>\n",
       "      <td>2017</td>\n",
       "      <td>Domingo</td>\n",
       "      <td>I</td>\n",
       "      <td>American Airlines</td>\n",
       "      <td>Santiago</td>\n",
       "      <td>Miami</td>\n",
       "      <td>3.0</td>\n",
       "      <td>1</td>\n",
       "      <td>noche</td>\n",
       "    </tr>\n",
       "    <tr>\n",
       "      <th>1</th>\n",
       "      <td>2</td>\n",
       "      <td>1</td>\n",
       "      <td>2017</td>\n",
       "      <td>Lunes</td>\n",
       "      <td>I</td>\n",
       "      <td>American Airlines</td>\n",
       "      <td>Santiago</td>\n",
       "      <td>Miami</td>\n",
       "      <td>9.0</td>\n",
       "      <td>1</td>\n",
       "      <td>noche</td>\n",
       "    </tr>\n",
       "    <tr>\n",
       "      <th>2</th>\n",
       "      <td>3</td>\n",
       "      <td>1</td>\n",
       "      <td>2017</td>\n",
       "      <td>Martes</td>\n",
       "      <td>I</td>\n",
       "      <td>American Airlines</td>\n",
       "      <td>Santiago</td>\n",
       "      <td>Miami</td>\n",
       "      <td>9.0</td>\n",
       "      <td>1</td>\n",
       "      <td>noche</td>\n",
       "    </tr>\n",
       "    <tr>\n",
       "      <th>3</th>\n",
       "      <td>4</td>\n",
       "      <td>1</td>\n",
       "      <td>2017</td>\n",
       "      <td>Miercoles</td>\n",
       "      <td>I</td>\n",
       "      <td>American Airlines</td>\n",
       "      <td>Santiago</td>\n",
       "      <td>Miami</td>\n",
       "      <td>3.0</td>\n",
       "      <td>1</td>\n",
       "      <td>noche</td>\n",
       "    </tr>\n",
       "    <tr>\n",
       "      <th>4</th>\n",
       "      <td>5</td>\n",
       "      <td>1</td>\n",
       "      <td>2017</td>\n",
       "      <td>Jueves</td>\n",
       "      <td>I</td>\n",
       "      <td>American Airlines</td>\n",
       "      <td>Santiago</td>\n",
       "      <td>Miami</td>\n",
       "      <td>0.0</td>\n",
       "      <td>1</td>\n",
       "      <td>noche</td>\n",
       "    </tr>\n",
       "  </tbody>\n",
       "</table>\n",
       "</div>"
      ],
      "text/plain": [
       "   DIA  MES   AÑO     DIANOM TIPOVUELO              OPERA  SIGLAORI SIGLADES  \\\n",
       "0    1    1  2017    Domingo         I  American Airlines  Santiago    Miami   \n",
       "1    2    1  2017      Lunes         I  American Airlines  Santiago    Miami   \n",
       "2    3    1  2017     Martes         I  American Airlines  Santiago    Miami   \n",
       "3    4    1  2017  Miercoles         I  American Airlines  Santiago    Miami   \n",
       "4    5    1  2017     Jueves         I  American Airlines  Santiago    Miami   \n",
       "\n",
       "   dif_min  temporada_alta periodo_dia  \n",
       "0      3.0               1       noche  \n",
       "1      9.0               1       noche  \n",
       "2      9.0               1       noche  \n",
       "3      3.0               1       noche  \n",
       "4      0.0               1       noche  "
      ]
     },
     "execution_count": 51,
     "metadata": {},
     "output_type": "execute_result"
    }
   ],
   "source": [
    "X.head()"
   ]
  },
  {
   "cell_type": "code",
   "execution_count": 52,
   "id": "fdb16e64",
   "metadata": {
    "hidden": true
   },
   "outputs": [
    {
     "data": {
      "text/plain": [
       "(68206, 103)"
      ]
     },
     "execution_count": 52,
     "metadata": {},
     "output_type": "execute_result"
    }
   ],
   "source": [
    "X_trans = preproc_baseline.fit_transform(X)\n",
    "X_trans.shape"
   ]
  },
  {
   "cell_type": "markdown",
   "id": "63ad719c",
   "metadata": {
    "hidden": true
   },
   "source": [
    "### Evaluamos por modelo de calsificacion con Regresion Logistica\n",
    "\n",
    "\n",
    "- En este caso utilizare el modelo de regresion logistica\n",
    "- Utilice este modelo, principalmetne porque es el primero que se me vino a la mente al tratarse de un analisis de clasificacion"
   ]
  },
  {
   "cell_type": "code",
   "execution_count": 53,
   "id": "273ad117",
   "metadata": {
    "hidden": true
   },
   "outputs": [
    {
     "data": {
      "text/html": [
       "<style>#sk-6a42a766-ca24-42c2-a953-ec3dcdbd91c0 {color: black;background-color: white;}#sk-6a42a766-ca24-42c2-a953-ec3dcdbd91c0 pre{padding: 0;}#sk-6a42a766-ca24-42c2-a953-ec3dcdbd91c0 div.sk-toggleable {background-color: white;}#sk-6a42a766-ca24-42c2-a953-ec3dcdbd91c0 label.sk-toggleable__label {cursor: pointer;display: block;width: 100%;margin-bottom: 0;padding: 0.3em;box-sizing: border-box;text-align: center;}#sk-6a42a766-ca24-42c2-a953-ec3dcdbd91c0 label.sk-toggleable__label-arrow:before {content: \"▸\";float: left;margin-right: 0.25em;color: #696969;}#sk-6a42a766-ca24-42c2-a953-ec3dcdbd91c0 label.sk-toggleable__label-arrow:hover:before {color: black;}#sk-6a42a766-ca24-42c2-a953-ec3dcdbd91c0 div.sk-estimator:hover label.sk-toggleable__label-arrow:before {color: black;}#sk-6a42a766-ca24-42c2-a953-ec3dcdbd91c0 div.sk-toggleable__content {max-height: 0;max-width: 0;overflow: hidden;text-align: left;background-color: #f0f8ff;}#sk-6a42a766-ca24-42c2-a953-ec3dcdbd91c0 div.sk-toggleable__content pre {margin: 0.2em;color: black;border-radius: 0.25em;background-color: #f0f8ff;}#sk-6a42a766-ca24-42c2-a953-ec3dcdbd91c0 input.sk-toggleable__control:checked~div.sk-toggleable__content {max-height: 200px;max-width: 100%;overflow: auto;}#sk-6a42a766-ca24-42c2-a953-ec3dcdbd91c0 input.sk-toggleable__control:checked~label.sk-toggleable__label-arrow:before {content: \"▾\";}#sk-6a42a766-ca24-42c2-a953-ec3dcdbd91c0 div.sk-estimator input.sk-toggleable__control:checked~label.sk-toggleable__label {background-color: #d4ebff;}#sk-6a42a766-ca24-42c2-a953-ec3dcdbd91c0 div.sk-label input.sk-toggleable__control:checked~label.sk-toggleable__label {background-color: #d4ebff;}#sk-6a42a766-ca24-42c2-a953-ec3dcdbd91c0 input.sk-hidden--visually {border: 0;clip: rect(1px 1px 1px 1px);clip: rect(1px, 1px, 1px, 1px);height: 1px;margin: -1px;overflow: hidden;padding: 0;position: absolute;width: 1px;}#sk-6a42a766-ca24-42c2-a953-ec3dcdbd91c0 div.sk-estimator {font-family: monospace;background-color: #f0f8ff;border: 1px dotted black;border-radius: 0.25em;box-sizing: border-box;margin-bottom: 0.5em;}#sk-6a42a766-ca24-42c2-a953-ec3dcdbd91c0 div.sk-estimator:hover {background-color: #d4ebff;}#sk-6a42a766-ca24-42c2-a953-ec3dcdbd91c0 div.sk-parallel-item::after {content: \"\";width: 100%;border-bottom: 1px solid gray;flex-grow: 1;}#sk-6a42a766-ca24-42c2-a953-ec3dcdbd91c0 div.sk-label:hover label.sk-toggleable__label {background-color: #d4ebff;}#sk-6a42a766-ca24-42c2-a953-ec3dcdbd91c0 div.sk-serial::before {content: \"\";position: absolute;border-left: 1px solid gray;box-sizing: border-box;top: 2em;bottom: 0;left: 50%;}#sk-6a42a766-ca24-42c2-a953-ec3dcdbd91c0 div.sk-serial {display: flex;flex-direction: column;align-items: center;background-color: white;padding-right: 0.2em;padding-left: 0.2em;}#sk-6a42a766-ca24-42c2-a953-ec3dcdbd91c0 div.sk-item {z-index: 1;}#sk-6a42a766-ca24-42c2-a953-ec3dcdbd91c0 div.sk-parallel {display: flex;align-items: stretch;justify-content: center;background-color: white;}#sk-6a42a766-ca24-42c2-a953-ec3dcdbd91c0 div.sk-parallel::before {content: \"\";position: absolute;border-left: 1px solid gray;box-sizing: border-box;top: 2em;bottom: 0;left: 50%;}#sk-6a42a766-ca24-42c2-a953-ec3dcdbd91c0 div.sk-parallel-item {display: flex;flex-direction: column;position: relative;background-color: white;}#sk-6a42a766-ca24-42c2-a953-ec3dcdbd91c0 div.sk-parallel-item:first-child::after {align-self: flex-end;width: 50%;}#sk-6a42a766-ca24-42c2-a953-ec3dcdbd91c0 div.sk-parallel-item:last-child::after {align-self: flex-start;width: 50%;}#sk-6a42a766-ca24-42c2-a953-ec3dcdbd91c0 div.sk-parallel-item:only-child::after {width: 0;}#sk-6a42a766-ca24-42c2-a953-ec3dcdbd91c0 div.sk-dashed-wrapped {border: 1px dashed gray;margin: 0 0.4em 0.5em 0.4em;box-sizing: border-box;padding-bottom: 0.4em;background-color: white;position: relative;}#sk-6a42a766-ca24-42c2-a953-ec3dcdbd91c0 div.sk-label label {font-family: monospace;font-weight: bold;background-color: white;display: inline-block;line-height: 1.2em;}#sk-6a42a766-ca24-42c2-a953-ec3dcdbd91c0 div.sk-label-container {position: relative;z-index: 2;text-align: center;}#sk-6a42a766-ca24-42c2-a953-ec3dcdbd91c0 div.sk-container {/* jupyter's `normalize.less` sets `[hidden] { display: none; }` but bootstrap.min.css set `[hidden] { display: none !important; }` so we also need the `!important` here to be able to override the default hidden behavior on the sphinx rendered scikit-learn.org. See: https://github.com/scikit-learn/scikit-learn/issues/21755 */display: inline-block !important;position: relative;}#sk-6a42a766-ca24-42c2-a953-ec3dcdbd91c0 div.sk-text-repr-fallback {display: none;}</style><div id=\"sk-6a42a766-ca24-42c2-a953-ec3dcdbd91c0\" class=\"sk-top-container\"><div class=\"sk-text-repr-fallback\"><pre>Pipeline(steps=[(&#x27;columntransformer&#x27;,\n",
       "                 ColumnTransformer(transformers=[(&#x27;pipeline-1&#x27;,\n",
       "                                                  Pipeline(steps=[(&#x27;simpleimputer&#x27;,\n",
       "                                                                   SimpleImputer()),\n",
       "                                                                  (&#x27;minmaxscaler&#x27;,\n",
       "                                                                   MinMaxScaler())]),\n",
       "                                                  &lt;sklearn.compose._column_transformer.make_column_selector object at 0x7f251f9e60d0&gt;),\n",
       "                                                 (&#x27;pipeline-2&#x27;,\n",
       "                                                  Pipeline(steps=[(&#x27;simpleimputer&#x27;,\n",
       "                                                                   SimpleImputer(strategy=&#x27;most_frequent&#x27;)),\n",
       "                                                                  (&#x27;onehotencoder&#x27;,\n",
       "                                                                   OneHotEncoder(handle_unknown=&#x27;ignore&#x27;))]),\n",
       "                                                  &lt;sklearn.compose._column_transformer.make_column_selector object at 0x7f251f9e6100&gt;)])),\n",
       "                (&#x27;logisticregression&#x27;, LogisticRegression())])</pre><b>Please rerun this cell to show the HTML repr or trust the notebook.</b></div><div class=\"sk-container\" hidden><div class=\"sk-item sk-dashed-wrapped\"><div class=\"sk-label-container\"><div class=\"sk-label sk-toggleable\"><input class=\"sk-toggleable__control sk-hidden--visually\" id=\"f131dc0f-456b-4e4e-9ed6-b59060536f27\" type=\"checkbox\" ><label for=\"f131dc0f-456b-4e4e-9ed6-b59060536f27\" class=\"sk-toggleable__label sk-toggleable__label-arrow\">Pipeline</label><div class=\"sk-toggleable__content\"><pre>Pipeline(steps=[(&#x27;columntransformer&#x27;,\n",
       "                 ColumnTransformer(transformers=[(&#x27;pipeline-1&#x27;,\n",
       "                                                  Pipeline(steps=[(&#x27;simpleimputer&#x27;,\n",
       "                                                                   SimpleImputer()),\n",
       "                                                                  (&#x27;minmaxscaler&#x27;,\n",
       "                                                                   MinMaxScaler())]),\n",
       "                                                  &lt;sklearn.compose._column_transformer.make_column_selector object at 0x7f251f9e60d0&gt;),\n",
       "                                                 (&#x27;pipeline-2&#x27;,\n",
       "                                                  Pipeline(steps=[(&#x27;simpleimputer&#x27;,\n",
       "                                                                   SimpleImputer(strategy=&#x27;most_frequent&#x27;)),\n",
       "                                                                  (&#x27;onehotencoder&#x27;,\n",
       "                                                                   OneHotEncoder(handle_unknown=&#x27;ignore&#x27;))]),\n",
       "                                                  &lt;sklearn.compose._column_transformer.make_column_selector object at 0x7f251f9e6100&gt;)])),\n",
       "                (&#x27;logisticregression&#x27;, LogisticRegression())])</pre></div></div></div><div class=\"sk-serial\"><div class=\"sk-item sk-dashed-wrapped\"><div class=\"sk-label-container\"><div class=\"sk-label sk-toggleable\"><input class=\"sk-toggleable__control sk-hidden--visually\" id=\"3714e41b-2500-4ecd-8cf5-f6bd82f7e8b8\" type=\"checkbox\" ><label for=\"3714e41b-2500-4ecd-8cf5-f6bd82f7e8b8\" class=\"sk-toggleable__label sk-toggleable__label-arrow\">columntransformer: ColumnTransformer</label><div class=\"sk-toggleable__content\"><pre>ColumnTransformer(transformers=[(&#x27;pipeline-1&#x27;,\n",
       "                                 Pipeline(steps=[(&#x27;simpleimputer&#x27;,\n",
       "                                                  SimpleImputer()),\n",
       "                                                 (&#x27;minmaxscaler&#x27;,\n",
       "                                                  MinMaxScaler())]),\n",
       "                                 &lt;sklearn.compose._column_transformer.make_column_selector object at 0x7f251f9e60d0&gt;),\n",
       "                                (&#x27;pipeline-2&#x27;,\n",
       "                                 Pipeline(steps=[(&#x27;simpleimputer&#x27;,\n",
       "                                                  SimpleImputer(strategy=&#x27;most_frequent&#x27;)),\n",
       "                                                 (&#x27;onehotencoder&#x27;,\n",
       "                                                  OneHotEncoder(handle_unknown=&#x27;ignore&#x27;))]),\n",
       "                                 &lt;sklearn.compose._column_transformer.make_column_selector object at 0x7f251f9e6100&gt;)])</pre></div></div></div><div class=\"sk-parallel\"><div class=\"sk-parallel-item\"><div class=\"sk-item\"><div class=\"sk-label-container\"><div class=\"sk-label sk-toggleable\"><input class=\"sk-toggleable__control sk-hidden--visually\" id=\"173bd75d-885e-40d3-ad9a-2dd4db2887a9\" type=\"checkbox\" ><label for=\"173bd75d-885e-40d3-ad9a-2dd4db2887a9\" class=\"sk-toggleable__label sk-toggleable__label-arrow\">pipeline-1</label><div class=\"sk-toggleable__content\"><pre>&lt;sklearn.compose._column_transformer.make_column_selector object at 0x7f251f9e60d0&gt;</pre></div></div></div><div class=\"sk-serial\"><div class=\"sk-item\"><div class=\"sk-serial\"><div class=\"sk-item\"><div class=\"sk-estimator sk-toggleable\"><input class=\"sk-toggleable__control sk-hidden--visually\" id=\"d262ccda-6a2e-4d09-9d57-2568b1e28eef\" type=\"checkbox\" ><label for=\"d262ccda-6a2e-4d09-9d57-2568b1e28eef\" class=\"sk-toggleable__label sk-toggleable__label-arrow\">SimpleImputer</label><div class=\"sk-toggleable__content\"><pre>SimpleImputer()</pre></div></div></div><div class=\"sk-item\"><div class=\"sk-estimator sk-toggleable\"><input class=\"sk-toggleable__control sk-hidden--visually\" id=\"58dfdd4a-0d19-44fd-be98-fe96d869b24f\" type=\"checkbox\" ><label for=\"58dfdd4a-0d19-44fd-be98-fe96d869b24f\" class=\"sk-toggleable__label sk-toggleable__label-arrow\">MinMaxScaler</label><div class=\"sk-toggleable__content\"><pre>MinMaxScaler()</pre></div></div></div></div></div></div></div></div><div class=\"sk-parallel-item\"><div class=\"sk-item\"><div class=\"sk-label-container\"><div class=\"sk-label sk-toggleable\"><input class=\"sk-toggleable__control sk-hidden--visually\" id=\"c44ec189-4152-4d65-aeda-c38cea7d3e15\" type=\"checkbox\" ><label for=\"c44ec189-4152-4d65-aeda-c38cea7d3e15\" class=\"sk-toggleable__label sk-toggleable__label-arrow\">pipeline-2</label><div class=\"sk-toggleable__content\"><pre>&lt;sklearn.compose._column_transformer.make_column_selector object at 0x7f251f9e6100&gt;</pre></div></div></div><div class=\"sk-serial\"><div class=\"sk-item\"><div class=\"sk-serial\"><div class=\"sk-item\"><div class=\"sk-estimator sk-toggleable\"><input class=\"sk-toggleable__control sk-hidden--visually\" id=\"ffab0f38-8ef4-40a0-b138-c486369af4ef\" type=\"checkbox\" ><label for=\"ffab0f38-8ef4-40a0-b138-c486369af4ef\" class=\"sk-toggleable__label sk-toggleable__label-arrow\">SimpleImputer</label><div class=\"sk-toggleable__content\"><pre>SimpleImputer(strategy=&#x27;most_frequent&#x27;)</pre></div></div></div><div class=\"sk-item\"><div class=\"sk-estimator sk-toggleable\"><input class=\"sk-toggleable__control sk-hidden--visually\" id=\"6012163b-437e-4311-991d-dfff34bd9635\" type=\"checkbox\" ><label for=\"6012163b-437e-4311-991d-dfff34bd9635\" class=\"sk-toggleable__label sk-toggleable__label-arrow\">OneHotEncoder</label><div class=\"sk-toggleable__content\"><pre>OneHotEncoder(handle_unknown=&#x27;ignore&#x27;)</pre></div></div></div></div></div></div></div></div></div></div><div class=\"sk-item\"><div class=\"sk-estimator sk-toggleable\"><input class=\"sk-toggleable__control sk-hidden--visually\" id=\"cbc76f3a-d076-460c-8625-0a1ebbea688c\" type=\"checkbox\" ><label for=\"cbc76f3a-d076-460c-8625-0a1ebbea688c\" class=\"sk-toggleable__label sk-toggleable__label-arrow\">LogisticRegression</label><div class=\"sk-toggleable__content\"><pre>LogisticRegression()</pre></div></div></div></div></div></div></div>"
      ],
      "text/plain": [
       "Pipeline(steps=[('columntransformer',\n",
       "                 ColumnTransformer(transformers=[('pipeline-1',\n",
       "                                                  Pipeline(steps=[('simpleimputer',\n",
       "                                                                   SimpleImputer()),\n",
       "                                                                  ('minmaxscaler',\n",
       "                                                                   MinMaxScaler())]),\n",
       "                                                  <sklearn.compose._column_transformer.make_column_selector object at 0x7f251f9e60d0>),\n",
       "                                                 ('pipeline-2',\n",
       "                                                  Pipeline(steps=[('simpleimputer',\n",
       "                                                                   SimpleImputer(strategy='most_frequent')),\n",
       "                                                                  ('onehotencoder',\n",
       "                                                                   OneHotEncoder(handle_unknown='ignore'))]),\n",
       "                                                  <sklearn.compose._column_transformer.make_column_selector object at 0x7f251f9e6100>)])),\n",
       "                ('logisticregression', LogisticRegression())])"
      ]
     },
     "execution_count": 53,
     "metadata": {},
     "output_type": "execute_result"
    }
   ],
   "source": [
    "pipe_baseline = make_pipeline(preproc_baseline, LogisticRegression())\n",
    "pipe_baseline"
   ]
  },
  {
   "cell_type": "markdown",
   "id": "7ec9e174",
   "metadata": {
    "hidden": true
   },
   "source": [
    "- Separo las variables de entrenamiento y de evaluacion"
   ]
  },
  {
   "cell_type": "code",
   "execution_count": 54,
   "id": "936b050a",
   "metadata": {
    "hidden": true
   },
   "outputs": [],
   "source": [
    "X_train, X_test, y_train, y_test = train_test_split(X, y, test_size=0.3, random_state=42)"
   ]
  },
  {
   "cell_type": "markdown",
   "id": "40c3b2c9",
   "metadata": {
    "hidden": true
   },
   "source": [
    "- Realizo un cross validation para determinar el score"
   ]
  },
  {
   "cell_type": "code",
   "execution_count": 55,
   "id": "aba56f52",
   "metadata": {
    "hidden": true
   },
   "outputs": [
    {
     "data": {
      "text/plain": [
       "0.9796623334506037"
      ]
     },
     "execution_count": 55,
     "metadata": {},
     "output_type": "execute_result"
    }
   ],
   "source": [
    "score_baseline = cross_val_score(pipe_baseline, X_train, y_train, cv=5).mean()\n",
    "score_baseline"
   ]
  },
  {
   "cell_type": "markdown",
   "id": "7a37f581",
   "metadata": {
    "hidden": true
   },
   "source": [
    "- Evaluo el modelo por regresion logistica, seguido de una matriz de confusion para determinar su performance"
   ]
  },
  {
   "cell_type": "code",
   "execution_count": 56,
   "id": "1eb03419",
   "metadata": {
    "hidden": true
   },
   "outputs": [],
   "source": [
    "pipe_baseline.fit(X_train,y_train)\n",
    "y_pred_baseline = pipe_baseline.predict(X_test)"
   ]
  },
  {
   "cell_type": "code",
   "execution_count": 57,
   "id": "2821a87d",
   "metadata": {
    "hidden": true
   },
   "outputs": [
    {
     "name": "stdout",
     "output_type": "stream",
     "text": [
      "[[16636     0]\n",
      " [  393  3433]]\n",
      "              precision    recall  f1-score   support\n",
      "\n",
      "           0       0.98      1.00      0.99     16636\n",
      "           1       1.00      0.90      0.95      3826\n",
      "\n",
      "    accuracy                           0.98     20462\n",
      "   macro avg       0.99      0.95      0.97     20462\n",
      "weighted avg       0.98      0.98      0.98     20462\n",
      "\n"
     ]
    },
    {
     "data": {
      "image/png": "[encoded data removed]",
      "text/plain": [
       "<Figure size 432x288 with 2 Axes>"
      ]
     },
     "metadata": {
      "needs_background": "light"
     },
     "output_type": "display_data"
    }
   ],
   "source": [
    "print(confusion_matrix(y_test, y_pred_baseline))\n",
    "print(classification_report(y_test, y_pred_baseline))\n",
    "plot_confusion_matrix(pipe_baseline, X_test, y_test);"
   ]
  },
  {
   "cell_type": "markdown",
   "id": "7e7faef0",
   "metadata": {
    "hidden": true
   },
   "source": [
    "- como se puede puede observar el modelo esta influenciado por la clase desbalanceada, por ende nos determinara a predecir mas vuelos sin retrasos, sin embargo al tener un buen precision, eso no quita que el modelo nos prediga los atrasos que tambien poseen un buen recall  "
   ]
  },
  {
   "cell_type": "markdown",
   "id": "efdc6a3e",
   "metadata": {
    "hidden": true
   },
   "source": [
    "- Analizamos un AUC que nos determina la tasa de verdaderos positivos y falsos positivos"
   ]
  },
  {
   "cell_type": "code",
   "execution_count": 58,
   "id": "1b59fb02",
   "metadata": {
    "hidden": true
   },
   "outputs": [
    {
     "data": {
      "text/plain": [
       "0.9486408782017773"
      ]
     },
     "execution_count": 58,
     "metadata": {},
     "output_type": "execute_result"
    }
   ],
   "source": [
    "\n",
    "auc_score = roc_auc_score(y_test, y_pred_baseline)\n",
    "auc_score"
   ]
  },
  {
   "cell_type": "markdown",
   "id": "f74464ff",
   "metadata": {
    "hidden": true
   },
   "source": [
    "### Evaluamos por modelo de calsificacion SVM"
   ]
  },
  {
   "cell_type": "code",
   "execution_count": 59,
   "id": "72ffde42",
   "metadata": {
    "hidden": true
   },
   "outputs": [
    {
     "data": {
      "text/html": [
       "<style>#sk-19451ea1-dc71-42f4-a687-d83e031d81bc {color: black;background-color: white;}#sk-19451ea1-dc71-42f4-a687-d83e031d81bc pre{padding: 0;}#sk-19451ea1-dc71-42f4-a687-d83e031d81bc div.sk-toggleable {background-color: white;}#sk-19451ea1-dc71-42f4-a687-d83e031d81bc label.sk-toggleable__label {cursor: pointer;display: block;width: 100%;margin-bottom: 0;padding: 0.3em;box-sizing: border-box;text-align: center;}#sk-19451ea1-dc71-42f4-a687-d83e031d81bc label.sk-toggleable__label-arrow:before {content: \"▸\";float: left;margin-right: 0.25em;color: #696969;}#sk-19451ea1-dc71-42f4-a687-d83e031d81bc label.sk-toggleable__label-arrow:hover:before {color: black;}#sk-19451ea1-dc71-42f4-a687-d83e031d81bc div.sk-estimator:hover label.sk-toggleable__label-arrow:before {color: black;}#sk-19451ea1-dc71-42f4-a687-d83e031d81bc div.sk-toggleable__content {max-height: 0;max-width: 0;overflow: hidden;text-align: left;background-color: #f0f8ff;}#sk-19451ea1-dc71-42f4-a687-d83e031d81bc div.sk-toggleable__content pre {margin: 0.2em;color: black;border-radius: 0.25em;background-color: #f0f8ff;}#sk-19451ea1-dc71-42f4-a687-d83e031d81bc input.sk-toggleable__control:checked~div.sk-toggleable__content {max-height: 200px;max-width: 100%;overflow: auto;}#sk-19451ea1-dc71-42f4-a687-d83e031d81bc input.sk-toggleable__control:checked~label.sk-toggleable__label-arrow:before {content: \"▾\";}#sk-19451ea1-dc71-42f4-a687-d83e031d81bc div.sk-estimator input.sk-toggleable__control:checked~label.sk-toggleable__label {background-color: #d4ebff;}#sk-19451ea1-dc71-42f4-a687-d83e031d81bc div.sk-label input.sk-toggleable__control:checked~label.sk-toggleable__label {background-color: #d4ebff;}#sk-19451ea1-dc71-42f4-a687-d83e031d81bc input.sk-hidden--visually {border: 0;clip: rect(1px 1px 1px 1px);clip: rect(1px, 1px, 1px, 1px);height: 1px;margin: -1px;overflow: hidden;padding: 0;position: absolute;width: 1px;}#sk-19451ea1-dc71-42f4-a687-d83e031d81bc div.sk-estimator {font-family: monospace;background-color: #f0f8ff;border: 1px dotted black;border-radius: 0.25em;box-sizing: border-box;margin-bottom: 0.5em;}#sk-19451ea1-dc71-42f4-a687-d83e031d81bc div.sk-estimator:hover {background-color: #d4ebff;}#sk-19451ea1-dc71-42f4-a687-d83e031d81bc div.sk-parallel-item::after {content: \"\";width: 100%;border-bottom: 1px solid gray;flex-grow: 1;}#sk-19451ea1-dc71-42f4-a687-d83e031d81bc div.sk-label:hover label.sk-toggleable__label {background-color: #d4ebff;}#sk-19451ea1-dc71-42f4-a687-d83e031d81bc div.sk-serial::before {content: \"\";position: absolute;border-left: 1px solid gray;box-sizing: border-box;top: 2em;bottom: 0;left: 50%;}#sk-19451ea1-dc71-42f4-a687-d83e031d81bc div.sk-serial {display: flex;flex-direction: column;align-items: center;background-color: white;padding-right: 0.2em;padding-left: 0.2em;}#sk-19451ea1-dc71-42f4-a687-d83e031d81bc div.sk-item {z-index: 1;}#sk-19451ea1-dc71-42f4-a687-d83e031d81bc div.sk-parallel {display: flex;align-items: stretch;justify-content: center;background-color: white;}#sk-19451ea1-dc71-42f4-a687-d83e031d81bc div.sk-parallel::before {content: \"\";position: absolute;border-left: 1px solid gray;box-sizing: border-box;top: 2em;bottom: 0;left: 50%;}#sk-19451ea1-dc71-42f4-a687-d83e031d81bc div.sk-parallel-item {display: flex;flex-direction: column;position: relative;background-color: white;}#sk-19451ea1-dc71-42f4-a687-d83e031d81bc div.sk-parallel-item:first-child::after {align-self: flex-end;width: 50%;}#sk-19451ea1-dc71-42f4-a687-d83e031d81bc div.sk-parallel-item:last-child::after {align-self: flex-start;width: 50%;}#sk-19451ea1-dc71-42f4-a687-d83e031d81bc div.sk-parallel-item:only-child::after {width: 0;}#sk-19451ea1-dc71-42f4-a687-d83e031d81bc div.sk-dashed-wrapped {border: 1px dashed gray;margin: 0 0.4em 0.5em 0.4em;box-sizing: border-box;padding-bottom: 0.4em;background-color: white;position: relative;}#sk-19451ea1-dc71-42f4-a687-d83e031d81bc div.sk-label label {font-family: monospace;font-weight: bold;background-color: white;display: inline-block;line-height: 1.2em;}#sk-19451ea1-dc71-42f4-a687-d83e031d81bc div.sk-label-container {position: relative;z-index: 2;text-align: center;}#sk-19451ea1-dc71-42f4-a687-d83e031d81bc div.sk-container {/* jupyter's `normalize.less` sets `[hidden] { display: none; }` but bootstrap.min.css set `[hidden] { display: none !important; }` so we also need the `!important` here to be able to override the default hidden behavior on the sphinx rendered scikit-learn.org. See: https://github.com/scikit-learn/scikit-learn/issues/21755 */display: inline-block !important;position: relative;}#sk-19451ea1-dc71-42f4-a687-d83e031d81bc div.sk-text-repr-fallback {display: none;}</style><div id=\"sk-19451ea1-dc71-42f4-a687-d83e031d81bc\" class=\"sk-top-container\"><div class=\"sk-text-repr-fallback\"><pre>Pipeline(steps=[(&#x27;columntransformer&#x27;,\n",
       "                 ColumnTransformer(transformers=[(&#x27;pipeline-1&#x27;,\n",
       "                                                  Pipeline(steps=[(&#x27;simpleimputer&#x27;,\n",
       "                                                                   SimpleImputer()),\n",
       "                                                                  (&#x27;minmaxscaler&#x27;,\n",
       "                                                                   MinMaxScaler())]),\n",
       "                                                  &lt;sklearn.compose._column_transformer.make_column_selector object at 0x7f251f9e60d0&gt;),\n",
       "                                                 (&#x27;pipeline-2&#x27;,\n",
       "                                                  Pipeline(steps=[(&#x27;simpleimputer&#x27;,\n",
       "                                                                   SimpleImputer(strategy=&#x27;most_frequent&#x27;)),\n",
       "                                                                  (&#x27;onehotencoder&#x27;,\n",
       "                                                                   OneHotEncoder(handle_unknown=&#x27;ignore&#x27;))]),\n",
       "                                                  &lt;sklearn.compose._column_transformer.make_column_selector object at 0x7f251f9e6100&gt;)])),\n",
       "                (&#x27;svc&#x27;, SVC())])</pre><b>Please rerun this cell to show the HTML repr or trust the notebook.</b></div><div class=\"sk-container\" hidden><div class=\"sk-item sk-dashed-wrapped\"><div class=\"sk-label-container\"><div class=\"sk-label sk-toggleable\"><input class=\"sk-toggleable__control sk-hidden--visually\" id=\"30afbdfc-631c-41d4-8d1f-ffa3f8c138a0\" type=\"checkbox\" ><label for=\"30afbdfc-631c-41d4-8d1f-ffa3f8c138a0\" class=\"sk-toggleable__label sk-toggleable__label-arrow\">Pipeline</label><div class=\"sk-toggleable__content\"><pre>Pipeline(steps=[(&#x27;columntransformer&#x27;,\n",
       "                 ColumnTransformer(transformers=[(&#x27;pipeline-1&#x27;,\n",
       "                                                  Pipeline(steps=[(&#x27;simpleimputer&#x27;,\n",
       "                                                                   SimpleImputer()),\n",
       "                                                                  (&#x27;minmaxscaler&#x27;,\n",
       "                                                                   MinMaxScaler())]),\n",
       "                                                  &lt;sklearn.compose._column_transformer.make_column_selector object at 0x7f251f9e60d0&gt;),\n",
       "                                                 (&#x27;pipeline-2&#x27;,\n",
       "                                                  Pipeline(steps=[(&#x27;simpleimputer&#x27;,\n",
       "                                                                   SimpleImputer(strategy=&#x27;most_frequent&#x27;)),\n",
       "                                                                  (&#x27;onehotencoder&#x27;,\n",
       "                                                                   OneHotEncoder(handle_unknown=&#x27;ignore&#x27;))]),\n",
       "                                                  &lt;sklearn.compose._column_transformer.make_column_selector object at 0x7f251f9e6100&gt;)])),\n",
       "                (&#x27;svc&#x27;, SVC())])</pre></div></div></div><div class=\"sk-serial\"><div class=\"sk-item sk-dashed-wrapped\"><div class=\"sk-label-container\"><div class=\"sk-label sk-toggleable\"><input class=\"sk-toggleable__control sk-hidden--visually\" id=\"a1a4f827-678d-4ade-942c-a920c666fc7b\" type=\"checkbox\" ><label for=\"a1a4f827-678d-4ade-942c-a920c666fc7b\" class=\"sk-toggleable__label sk-toggleable__label-arrow\">columntransformer: ColumnTransformer</label><div class=\"sk-toggleable__content\"><pre>ColumnTransformer(transformers=[(&#x27;pipeline-1&#x27;,\n",
       "                                 Pipeline(steps=[(&#x27;simpleimputer&#x27;,\n",
       "                                                  SimpleImputer()),\n",
       "                                                 (&#x27;minmaxscaler&#x27;,\n",
       "                                                  MinMaxScaler())]),\n",
       "                                 &lt;sklearn.compose._column_transformer.make_column_selector object at 0x7f251f9e60d0&gt;),\n",
       "                                (&#x27;pipeline-2&#x27;,\n",
       "                                 Pipeline(steps=[(&#x27;simpleimputer&#x27;,\n",
       "                                                  SimpleImputer(strategy=&#x27;most_frequent&#x27;)),\n",
       "                                                 (&#x27;onehotencoder&#x27;,\n",
       "                                                  OneHotEncoder(handle_unknown=&#x27;ignore&#x27;))]),\n",
       "                                 &lt;sklearn.compose._column_transformer.make_column_selector object at 0x7f251f9e6100&gt;)])</pre></div></div></div><div class=\"sk-parallel\"><div class=\"sk-parallel-item\"><div class=\"sk-item\"><div class=\"sk-label-container\"><div class=\"sk-label sk-toggleable\"><input class=\"sk-toggleable__control sk-hidden--visually\" id=\"43bd4473-efa4-4a1b-98e0-89b017a7bdf9\" type=\"checkbox\" ><label for=\"43bd4473-efa4-4a1b-98e0-89b017a7bdf9\" class=\"sk-toggleable__label sk-toggleable__label-arrow\">pipeline-1</label><div class=\"sk-toggleable__content\"><pre>&lt;sklearn.compose._column_transformer.make_column_selector object at 0x7f251f9e60d0&gt;</pre></div></div></div><div class=\"sk-serial\"><div class=\"sk-item\"><div class=\"sk-serial\"><div class=\"sk-item\"><div class=\"sk-estimator sk-toggleable\"><input class=\"sk-toggleable__control sk-hidden--visually\" id=\"9a403abf-401f-4112-be57-825cb0b8a880\" type=\"checkbox\" ><label for=\"9a403abf-401f-4112-be57-825cb0b8a880\" class=\"sk-toggleable__label sk-toggleable__label-arrow\">SimpleImputer</label><div class=\"sk-toggleable__content\"><pre>SimpleImputer()</pre></div></div></div><div class=\"sk-item\"><div class=\"sk-estimator sk-toggleable\"><input class=\"sk-toggleable__control sk-hidden--visually\" id=\"547fd10e-5101-4a10-a779-de886dfc163b\" type=\"checkbox\" ><label for=\"547fd10e-5101-4a10-a779-de886dfc163b\" class=\"sk-toggleable__label sk-toggleable__label-arrow\">MinMaxScaler</label><div class=\"sk-toggleable__content\"><pre>MinMaxScaler()</pre></div></div></div></div></div></div></div></div><div class=\"sk-parallel-item\"><div class=\"sk-item\"><div class=\"sk-label-container\"><div class=\"sk-label sk-toggleable\"><input class=\"sk-toggleable__control sk-hidden--visually\" id=\"6574e0cd-c69a-42ea-b42f-2dea3b51f8a7\" type=\"checkbox\" ><label for=\"6574e0cd-c69a-42ea-b42f-2dea3b51f8a7\" class=\"sk-toggleable__label sk-toggleable__label-arrow\">pipeline-2</label><div class=\"sk-toggleable__content\"><pre>&lt;sklearn.compose._column_transformer.make_column_selector object at 0x7f251f9e6100&gt;</pre></div></div></div><div class=\"sk-serial\"><div class=\"sk-item\"><div class=\"sk-serial\"><div class=\"sk-item\"><div class=\"sk-estimator sk-toggleable\"><input class=\"sk-toggleable__control sk-hidden--visually\" id=\"2b675b6c-179f-4f6e-9383-2a7c84b52120\" type=\"checkbox\" ><label for=\"2b675b6c-179f-4f6e-9383-2a7c84b52120\" class=\"sk-toggleable__label sk-toggleable__label-arrow\">SimpleImputer</label><div class=\"sk-toggleable__content\"><pre>SimpleImputer(strategy=&#x27;most_frequent&#x27;)</pre></div></div></div><div class=\"sk-item\"><div class=\"sk-estimator sk-toggleable\"><input class=\"sk-toggleable__control sk-hidden--visually\" id=\"d53b501f-a2a7-40ad-96a4-0dda42090edb\" type=\"checkbox\" ><label for=\"d53b501f-a2a7-40ad-96a4-0dda42090edb\" class=\"sk-toggleable__label sk-toggleable__label-arrow\">OneHotEncoder</label><div class=\"sk-toggleable__content\"><pre>OneHotEncoder(handle_unknown=&#x27;ignore&#x27;)</pre></div></div></div></div></div></div></div></div></div></div><div class=\"sk-item\"><div class=\"sk-estimator sk-toggleable\"><input class=\"sk-toggleable__control sk-hidden--visually\" id=\"8d45832a-a5c1-4aa6-8339-edbc70671715\" type=\"checkbox\" ><label for=\"8d45832a-a5c1-4aa6-8339-edbc70671715\" class=\"sk-toggleable__label sk-toggleable__label-arrow\">SVC</label><div class=\"sk-toggleable__content\"><pre>SVC()</pre></div></div></div></div></div></div></div>"
      ],
      "text/plain": [
       "Pipeline(steps=[('columntransformer',\n",
       "                 ColumnTransformer(transformers=[('pipeline-1',\n",
       "                                                  Pipeline(steps=[('simpleimputer',\n",
       "                                                                   SimpleImputer()),\n",
       "                                                                  ('minmaxscaler',\n",
       "                                                                   MinMaxScaler())]),\n",
       "                                                  <sklearn.compose._column_transformer.make_column_selector object at 0x7f251f9e60d0>),\n",
       "                                                 ('pipeline-2',\n",
       "                                                  Pipeline(steps=[('simpleimputer',\n",
       "                                                                   SimpleImputer(strategy='most_frequent')),\n",
       "                                                                  ('onehotencoder',\n",
       "                                                                   OneHotEncoder(handle_unknown='ignore'))]),\n",
       "                                                  <sklearn.compose._column_transformer.make_column_selector object at 0x7f251f9e6100>)])),\n",
       "                ('svc', SVC())])"
      ]
     },
     "execution_count": 59,
     "metadata": {},
     "output_type": "execute_result"
    }
   ],
   "source": [
    "pipe_baseline_SVM = make_pipeline(preproc_baseline, SVC())\n",
    "pipe_baseline_SVM"
   ]
  },
  {
   "cell_type": "code",
   "execution_count": 60,
   "id": "cff798c3",
   "metadata": {
    "hidden": true
   },
   "outputs": [
    {
     "data": {
      "text/plain": [
       "0.9603929315172512"
      ]
     },
     "execution_count": 60,
     "metadata": {},
     "output_type": "execute_result"
    }
   ],
   "source": [
    "score_baseline_SVM = cross_val_score(pipe_baseline_SVM, X_train, y_train, cv=5).mean()\n",
    "score_baseline_SVM"
   ]
  },
  {
   "cell_type": "code",
   "execution_count": 61,
   "id": "7161c403",
   "metadata": {
    "hidden": true
   },
   "outputs": [
    {
     "name": "stdout",
     "output_type": "stream",
     "text": [
      "[[16631     5]\n",
      " [  695  3131]]\n",
      "              precision    recall  f1-score   support\n",
      "\n",
      "           0       0.96      1.00      0.98     16636\n",
      "           1       1.00      0.82      0.90      3826\n",
      "\n",
      "    accuracy                           0.97     20462\n",
      "   macro avg       0.98      0.91      0.94     20462\n",
      "weighted avg       0.97      0.97      0.96     20462\n",
      "\n"
     ]
    },
    {
     "data": {
      "image/png": "[encoded data removed]",
      "text/plain": [
       "<Figure size 432x288 with 2 Axes>"
      ]
     },
     "metadata": {
      "needs_background": "light"
     },
     "output_type": "display_data"
    }
   ],
   "source": [
    "pipe_baseline_SVM.fit(X_train,y_train)\n",
    "y_pred_baseline_SVM = pipe_baseline_SVM.predict(X_test)\n",
    "print(confusion_matrix(y_test, y_pred_baseline_SVM))\n",
    "print(classification_report(y_test, y_pred_baseline_SVM))\n",
    "plot_confusion_matrix(pipe_baseline_SVM, X_test, y_test);"
   ]
  },
  {
   "cell_type": "code",
   "execution_count": 63,
   "id": "d2cb183c",
   "metadata": {
    "hidden": true
   },
   "outputs": [
    {
     "data": {
      "text/plain": [
       "0.9090237956292269"
      ]
     },
     "execution_count": 63,
     "metadata": {},
     "output_type": "execute_result"
    }
   ],
   "source": [
    "auc_score = roc_auc_score(y_test, y_pred_baseline_SVM)\n",
    "auc_score"
   ]
  },
  {
   "cell_type": "markdown",
   "id": "c504f2fb",
   "metadata": {
    "hidden": true
   },
   "source": [
    "- Si bien nos dio un score ligeramente menor, la metrica AUC nos determino un valor menor. "
   ]
  },
  {
   "cell_type": "markdown",
   "id": "eed244bf",
   "metadata": {
    "heading_collapsed": true
   },
   "source": [
    "## Evalúa tu modelo. ¿Qué performance tiene? ¿Qué métricas usaste para evaluar esa performance y por qué? ¿Por qué elegiste ese algoritmo en particular? ¿Qué variables son las que más influyen en la predicción? ¿Cómo podrías mejorar la performance?"
   ]
  },
  {
   "cell_type": "markdown",
   "id": "4d91fea5",
   "metadata": {
    "hidden": true
   },
   "source": [
    "-\n",
    "- A diferencia de F1, recall, precisión y accuracy: el AUC no depende de un umbral elegido.Esto lo convierte en una excelente métrica para medir el rendimiento general de un modelo.\n",
    "- Como observamos, altratarse de un sistema desbalanceado siempre nos arrojara valores con la tendencia mayotiastaria, en este caso con datos de sin atrasos\n",
    "- En este caso observariamos mas la metrica de precision y recall, por las ocurrencias de la clase y para obtener una identificacion correcta de la clase\n",
    "- al ser un conjunto de datos desbalanceados se puede hacer lo siguiente\n",
    "        - Puede agregar copias de instancias de la clase minoritaria, lo que se denomina sobremuestreo o muestreo excesivo \n",
    "        - Puede eliminar instancias de la clase mayoritaria, lo que se denomina sub-muestreo.\n",
    "- Osea, podemos agregar mas datos del siguiente año y seralizar un nuevo modelo.\n",
    "- Podemos eliminar las **Aerolineas** o **Destinos** con mas eficiencia y de ahi analizar nuevamente los retrasos"
   ]
  },
  {
   "cell_type": "markdown",
   "id": "3f336fbc",
   "metadata": {
    "heading_collapsed": true
   },
   "source": [
    "# Comentarios finales\n",
    "\n",
    "- Analizamos solamente dos modelos, lo cual es posible seguir utilizando mas, por ejemplo :\n",
    "       - clasificacion por SGD, arboles de desicion, bosques aleatorios, Adaboost o metodos de ensamblado\n",
    "       \n",
    "- No se ajustaron los threshols o umbrales para asi determinar los falsos negativos y falsos positivos\n",
    "- Se podria haber hecho un grid search para ajustar mejor los hiper parametros\n",
    "- Por cuestiones de tiempo no pude eliminar variables para determinar un mejor ajuste con respecto a los atrasos, pero seguramente hubiera temido un modelo un poco mas balanceado\n",
    "- Con las columnas **Fecha-I** y **Fecha-O** se podria realizar un trabajo de Time series, que por cuestion de tiempo no pude realizar, podriamos utilizar la libreria prophet o un modelo ARIMA o la libreria Darts. Tambien se podria utilizar un modelo de RNN"
   ]
  },
  {
   "cell_type": "code",
   "execution_count": null,
   "id": "d9426175",
   "metadata": {
    "hidden": true
   },
   "outputs": [],
   "source": []
  }
 ],
 "metadata": {
  "kernelspec": {
   "display_name": "Python 3 (ipykernel)",
   "language": "python",
   "name": "python3"
  },
  "language_info": {
   "codemirror_mode": {
    "name": "ipython",
    "version": 3
   },
   "file_extension": ".py",
   "mimetype": "text/x-python",
   "name": "python",
   "nbconvert_exporter": "python",
   "pygments_lexer": "ipython3",
   "version": "3.8.6"
  },
  "toc": {
   "base_numbering": 1,
   "nav_menu": {},
   "number_sections": true,
   "sideBar": true,
   "skip_h1_title": false,
   "title_cell": "Table of Contents",
   "title_sidebar": "Contents",
   "toc_cell": false,
   "toc_position": {},
   "toc_section_display": true,
   "toc_window_display": true
  }
 },
 "nbformat": 4,
 "nbformat_minor": 5
}
